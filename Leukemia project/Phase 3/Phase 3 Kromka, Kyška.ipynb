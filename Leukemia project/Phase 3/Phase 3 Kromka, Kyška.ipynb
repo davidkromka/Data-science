{
 "cells": [
  {
   "cell_type": "markdown",
   "id": "721c99bf",
   "metadata": {},
   "source": [
    "# Fáza 3 - strojové učenie"
   ]
  },
  {
   "cell_type": "markdown",
   "id": "82ccfc5f",
   "metadata": {},
   "source": [
    "Dávid Kromka, Jozef Kyška Podiel práce 50% : 50% Cvičenie pondelok 11:00 Dataset 23"
   ]
  },
  {
   "cell_type": "code",
   "execution_count": 23,
   "id": "644d6c1e",
   "metadata": {},
   "outputs": [],
   "source": [
    "import pandas as pd\n",
    "import numpy as np\n",
    "from sklearn import tree\n",
    "from sklearn.metrics import accuracy_score\n",
    "from sklearn.metrics import precision_score\n",
    "from sklearn.metrics import recall_score\n",
    "from sklearn.utils import resample\n",
    "\n",
    "import matplotlib.pyplot as plt\n",
    "import seaborn\n",
    "plt.rcParams['figure.figsize'] = 15, 10"
   ]
  },
  {
   "cell_type": "code",
   "execution_count": 24,
   "id": "ae0a96ec",
   "metadata": {},
   "outputs": [
    {
     "name": "stdout",
     "output_type": "stream",
     "text": [
      "      etytr     hbver  leukocyty  hematokrit  indicator\n",
      "0 -0.399628 -1.673183  -1.272179    0.584718        1.0\n",
      "1  0.309280  0.461772   1.262083    0.101565        1.0\n",
      "2 -1.065034  0.592658  -0.350652   -1.020035        0.0\n",
      "3  1.073037  0.705458   0.166171   -0.330980        1.0\n",
      "4 -1.375606  0.194146  -0.998064   -0.225887        1.0\n",
      "     etytr    hbver  leukocyty  hematokrit  indicator\n",
      "0  5.82281  8.58058    7.55633     5.04757        0.0\n",
      "1  5.65706  7.43965   10.09821     6.06325        0.0\n",
      "2  8.11379  9.91181    7.74704     8.84160        1.0\n",
      "3  5.34681  9.96587    6.18617     8.29191        1.0\n",
      "4  8.54295  6.65051    8.81665     5.28312        0.0\n"
     ]
    }
   ],
   "source": [
    "filename = \"train.csv\"\n",
    "filename2 = \"test.csv\"\n",
    "train = pd.read_csv(filename)\n",
    "test = pd.read_csv(filename2)\n",
    "print(train.head())\n",
    "print(test.head())"
   ]
  },
  {
   "cell_type": "code",
   "execution_count": 25,
   "id": "09fc603d",
   "metadata": {},
   "outputs": [
    {
     "name": "stdout",
     "output_type": "stream",
     "text": [
      "(7669, 5)\n",
      "(1918, 5)\n"
     ]
    }
   ],
   "source": [
    "print(train.shape)\n",
    "print(test.shape)"
   ]
  },
  {
   "cell_type": "markdown",
   "id": "4f9fbd04",
   "metadata": {},
   "source": [
    "## 1. Manuálne vytvorenie a vyhodnotenie rozhodovacích pravidiel pre klasifikáciu"
   ]
  },
  {
   "cell_type": "markdown",
   "id": "e57ce9e1",
   "metadata": {},
   "source": [
    "OneR alebo \"One rule\" je jednoduchý klasifikačný algorutmus pre suprevised learning. Pre každú hodnotu feature zo \n",
    "všetkých features a ich indikátora generuje pravidlo a vyberá také, ktoré má najmenší total error. Pre vytvorenie pravidla musíme najprv\n",
    "vytvoriť tabuľku počtov hodnôt atributov pre danú hodnotu indikatora a následne vytvoríme pravidlá pre najčastejsiu hodnotu indikátora."
   ]
  },
  {
   "cell_type": "code",
   "execution_count": 26,
   "id": "f88ecf72",
   "metadata": {},
   "outputs": [
    {
     "name": "stdout",
     "output_type": "stream",
     "text": [
      "      etytr  hbver  leukocyty  hematokrit  indicator\n",
      "0         3      0          1           7        1.0\n",
      "1         6      6          8           5        1.0\n",
      "2         1      7          3           1        0.0\n",
      "3         8      7          5           3        1.0\n",
      "4         0      5          1           3        1.0\n",
      "...     ...    ...        ...         ...        ...\n",
      "7664      2      0          0           3        1.0\n",
      "7665      1      9          5           2        0.0\n",
      "7666      8      6          9           2        1.0\n",
      "7667      8      7          4           6        1.0\n",
      "7668      1      9          6           1        0.0\n",
      "\n",
      "[7669 rows x 5 columns]\n",
      "      etytr  hbver  leukocyty  hematokrit  indicator\n",
      "0         2      5          5           0        0.0\n",
      "1         1      2          9           1        0.0\n",
      "2         6      8          6           7        1.0\n",
      "3         1      9          2           5        1.0\n",
      "4         7      0          8           0        0.0\n",
      "...     ...    ...        ...         ...        ...\n",
      "1913      0      0          9           3        0.0\n",
      "1914      6      7          7           9        0.0\n",
      "1915      7      6          1           8        0.0\n",
      "1916      5      7          5           0        0.0\n",
      "1917      8      2          2           3        0.0\n",
      "\n",
      "[1918 rows x 5 columns]\n"
     ]
    }
   ],
   "source": [
    "trainq = train\n",
    "n=10\n",
    "trainq['etytr'] = pd.qcut(train['etytr'], n, labels=False)\n",
    "trainq['hbver'] = pd.qcut(train['hbver'], n, labels=False)\n",
    "trainq['leukocyty'] = pd.qcut(train['leukocyty'], n, labels=False)\n",
    "trainq['hematokrit'] = pd.qcut(train['hematokrit'], n, labels=False)\n",
    "\n",
    "testq = test\n",
    "testq['etytr'] = pd.qcut(test['etytr'], n, labels=False)\n",
    "testq['hbver'] = pd.qcut(test['hbver'], n, labels=False)\n",
    "testq['leukocyty'] = pd.qcut(test['leukocyty'], n, labels=False)\n",
    "testq['hematokrit'] = pd.qcut(test['hematokrit'], n, labels=False)\n",
    "print(trainq)\n",
    "print(testq)"
   ]
  },
  {
   "cell_type": "code",
   "execution_count": 27,
   "id": "58047d45",
   "metadata": {},
   "outputs": [
    {
     "name": "stdout",
     "output_type": "stream",
     "text": [
      "      etytr  hbver  leukocyty  hematokrit\n",
      "0         3      0          1           7\n",
      "1         6      6          8           5\n",
      "2         1      7          3           1\n",
      "3         8      7          5           3\n",
      "4         0      5          1           3\n",
      "...     ...    ...        ...         ...\n",
      "7664      2      0          0           3\n",
      "7665      1      9          5           2\n",
      "7666      8      6          9           2\n",
      "7667      8      7          4           6\n",
      "7668      1      9          6           1\n",
      "\n",
      "[7669 rows x 4 columns]\n",
      "      etytr  hbver  leukocyty  hematokrit\n",
      "0         2      5          5           0\n",
      "1         1      2          9           1\n",
      "2         6      8          6           7\n",
      "3         1      9          2           5\n",
      "4         7      0          8           0\n",
      "...     ...    ...        ...         ...\n",
      "1913      0      0          9           3\n",
      "1914      6      7          7           9\n",
      "1915      7      6          1           8\n",
      "1916      5      7          5           0\n",
      "1917      8      2          2           3\n",
      "\n",
      "[1918 rows x 4 columns]\n"
     ]
    }
   ],
   "source": [
    "x_train = trainq.drop('indicator', axis=1)\n",
    "x_test = test.drop('indicator', axis=1)\n",
    "print(x_train)\n",
    "print(x_test)"
   ]
  },
  {
   "cell_type": "code",
   "execution_count": 28,
   "id": "ee545cb0",
   "metadata": {},
   "outputs": [
    {
     "name": "stdout",
     "output_type": "stream",
     "text": [
      "y_train size: 7669\n",
      "y_test size: 1918\n"
     ]
    }
   ],
   "source": [
    "y_train = trainq['indicator']\n",
    "y_test = test['indicator']\n",
    "print(f'y_train size: {y_train.shape[0]}')\n",
    "print(f'y_test size: {y_test.shape[0]}')"
   ]
  },
  {
   "cell_type": "code",
   "execution_count": 29,
   "id": "42e4afac",
   "metadata": {},
   "outputs": [
    {
     "name": "stdout",
     "output_type": "stream",
     "text": [
      "0.5891553701772679\n",
      "0.6421121251629727\n",
      "0.8047385620915033\n"
     ]
    }
   ],
   "source": [
    "def get_rule_for_column(column, indicator):\n",
    "    rules = []\n",
    "    total_error = 0\n",
    "    column_indicator = pd.DataFrame({'attribute': column, 'indicator': indicator})\n",
    "    \n",
    "    for value in column.unique():\n",
    "        \n",
    "        records_of_value = column_indicator[column_indicator['attribute'] == value]\n",
    "        value_counts = records_of_value['indicator'].value_counts()\n",
    "        indicator_0_count = value_counts[0.0]\n",
    "        indicator_1_count = value_counts[1.0]\n",
    "        \n",
    "        if indicator_0_count > indicator_1_count:\n",
    "            rules.append(0.0)\n",
    "            total_error = total_error + indicator_1_count\n",
    "        else:\n",
    "            rules.append(1.0)\n",
    "            total_error = total_error + indicator_0_count\n",
    "    \n",
    "    return rules, total_error\n",
    "\n",
    "\n",
    "def oneR_fit(x_train, y_train):\n",
    "    smallest_error = np.inf\n",
    "    \n",
    "    for col in x_train.columns:\n",
    "        rules, error = get_rule_for_column(x_train[col], y_train)\n",
    "        if error < smallest_error:\n",
    "            best_attribute = col\n",
    "            best_rules = rules\n",
    "            smallest_error = error\n",
    "    \n",
    "    return best_rules, best_attribute\n",
    "\n",
    "\n",
    "def oneR_predict(rules, attribute, x_test):\n",
    "    column = x_test[attribute]\n",
    "    predictions = []\n",
    "    \n",
    "    for value in column:\n",
    "        prediction = rules[value]\n",
    "        predictions.append(prediction)\n",
    "        \n",
    "    return predictions\n",
    "\n",
    "\n",
    "rules, attribute = oneR_fit(x_train, y_train)\n",
    "print(accuracy_score(y_test, oneR_predict(rules, attribute, x_test)))\n",
    "print(precision_score(y_test, oneR_predict(rules, attribute, x_test)))\n",
    "print(recall_score(y_test, oneR_predict(rules, attribute, x_test)))"
   ]
  },
  {
   "cell_type": "markdown",
   "id": "0b529f69",
   "metadata": {},
   "source": [
    "## 2. Natrénovanie a vyhodnotenie klasifikátora strojového učenia"
   ]
  },
  {
   "cell_type": "code",
   "execution_count": 503,
   "id": "ca817c82",
   "metadata": {},
   "outputs": [
    {
     "data": {
      "text/plain": [
       "[Text(418.5, 475.65000000000003, 'X[3] <= 0.5\\ngini = 0.457\\nsamples = 7669\\nvalue = [2712, 4957]'),\n",
       " Text(209.25, 339.75, 'X[2] <= 1.5\\ngini = 0.411\\nsamples = 1918\\nvalue = [1364, 554]'),\n",
       " Text(104.625, 203.85000000000002, 'X[0] <= 1.5\\ngini = 0.492\\nsamples = 717\\nvalue = [312, 405]'),\n",
       " Text(52.3125, 67.94999999999999, 'gini = 0.394\\nsamples = 523\\nvalue = [141, 382]'),\n",
       " Text(156.9375, 67.94999999999999, 'gini = 0.209\\nsamples = 194\\nvalue = [171, 23]'),\n",
       " Text(313.875, 203.85000000000002, 'X[0] <= 2.5\\ngini = 0.217\\nsamples = 1201\\nvalue = [1052, 149]'),\n",
       " Text(261.5625, 67.94999999999999, 'gini = 0.142\\nsamples = 1092\\nvalue = [1008, 84]'),\n",
       " Text(366.1875, 67.94999999999999, 'gini = 0.481\\nsamples = 109\\nvalue = [44, 65]'),\n",
       " Text(627.75, 339.75, 'X[2] <= 2.5\\ngini = 0.359\\nsamples = 5751\\nvalue = [1348, 4403]'),\n",
       " Text(523.125, 203.85000000000002, 'X[0] <= 1.5\\ngini = 0.401\\nsamples = 4480\\nvalue = [1243, 3237]'),\n",
       " Text(470.8125, 67.94999999999999, 'gini = 0.276\\nsamples = 2264\\nvalue = [375, 1889]'),\n",
       " Text(575.4375, 67.94999999999999, 'gini = 0.477\\nsamples = 2216\\nvalue = [868, 1348]'),\n",
       " Text(732.375, 203.85000000000002, 'X[0] <= 0.5\\ngini = 0.152\\nsamples = 1271\\nvalue = [105, 1166]'),\n",
       " Text(680.0625, 67.94999999999999, 'gini = 0.31\\nsamples = 47\\nvalue = [38, 9]'),\n",
       " Text(784.6875, 67.94999999999999, 'gini = 0.103\\nsamples = 1224\\nvalue = [67, 1157]')]"
      ]
     },
     "execution_count": 503,
     "metadata": {},
     "output_type": "execute_result"
    },
    {
     "data": {
      "image/png": "[encoded data removed]",
      "text/plain": [
       "<Figure size 1080x720 with 1 Axes>"
      ]
     },
     "metadata": {
      "needs_background": "light"
     },
     "output_type": "display_data"
    }
   ],
   "source": [
    "clf = tree.DecisionTreeClassifier(max_depth=3)\n",
    "clf = clf.fit(x_train, y_train)\n",
    "\n",
    "tree.plot_tree(clf)"
   ]
  },
  {
   "cell_type": "code",
   "execution_count": 504,
   "id": "7866860f",
   "metadata": {},
   "outputs": [
    {
     "data": {
      "text/plain": [
       "0.7778936392075079"
      ]
     },
     "execution_count": 504,
     "metadata": {},
     "output_type": "execute_result"
    }
   ],
   "source": [
    "accuracy_score(y_test, clf.fit(x_train, y_train).predict(x_test))"
   ]
  },
  {
   "cell_type": "code",
   "execution_count": 505,
   "id": "6fe1bf26",
   "metadata": {},
   "outputs": [
    {
     "data": {
      "text/plain": [
       "0.752851711026616"
      ]
     },
     "execution_count": 505,
     "metadata": {},
     "output_type": "execute_result"
    }
   ],
   "source": [
    "precision_score(y_test, clf.fit(x_train, y_train).predict(x_test))"
   ]
  },
  {
   "cell_type": "code",
   "execution_count": 506,
   "id": "46c23bd5",
   "metadata": {},
   "outputs": [
    {
     "data": {
      "text/plain": [
       "0.9705882352941176"
      ]
     },
     "execution_count": 506,
     "metadata": {},
     "output_type": "execute_result"
    }
   ],
   "source": [
    "recall_score(y_test, clf.fit(x_train, y_train).predict(x_test))"
   ]
  },
  {
   "cell_type": "code",
   "execution_count": 507,
   "id": "644957f8",
   "metadata": {},
   "outputs": [
    {
     "data": {
      "text/plain": [
       "[Text(412.79571143617017, 509.625, 'X[3] <= 0.5\\ngini = 0.457\\nsamples = 7669\\nvalue = [2712, 4957]'),\n",
       " Text(206.74567819148936, 441.675, 'X[2] <= 1.5\\ngini = 0.411\\nsamples = 1918\\nvalue = [1364, 554]'),\n",
       " Text(116.86835106382978, 373.725, 'X[0] <= 1.5\\ngini = 0.492\\nsamples = 717\\nvalue = [312, 405]'),\n",
       " Text(71.23404255319149, 305.775, 'X[1] <= 1.5\\ngini = 0.394\\nsamples = 523\\nvalue = [141, 382]'),\n",
       " Text(35.61702127659574, 237.825, 'X[1] <= 0.5\\ngini = 0.186\\nsamples = 357\\nvalue = [37, 320]'),\n",
       " Text(17.80851063829787, 169.875, 'X[2] <= 0.5\\ngini = 0.058\\nsamples = 236\\nvalue = [7, 229]'),\n",
       " Text(8.904255319148936, 101.92500000000001, 'X[0] <= 0.5\\ngini = 0.013\\nsamples = 153\\nvalue = [1, 152]'),\n",
       " Text(4.452127659574468, 33.97500000000002, 'gini = 0.02\\nsamples = 100\\nvalue = [1, 99]'),\n",
       " Text(13.356382978723403, 33.97500000000002, 'gini = 0.0\\nsamples = 53\\nvalue = [0, 53]'),\n",
       " Text(26.712765957446805, 101.92500000000001, 'X[0] <= 0.5\\ngini = 0.134\\nsamples = 83\\nvalue = [6, 77]'),\n",
       " Text(22.26063829787234, 33.97500000000002, 'gini = 0.375\\nsamples = 12\\nvalue = [3, 9]'),\n",
       " Text(31.164893617021274, 33.97500000000002, 'gini = 0.081\\nsamples = 71\\nvalue = [3, 68]'),\n",
       " Text(53.42553191489361, 169.875, 'X[2] <= 0.5\\ngini = 0.373\\nsamples = 121\\nvalue = [30, 91]'),\n",
       " Text(44.52127659574468, 101.92500000000001, 'X[0] <= 0.5\\ngini = 0.145\\nsamples = 51\\nvalue = [4, 47]'),\n",
       " Text(40.06914893617021, 33.97500000000002, 'gini = 0.083\\nsamples = 46\\nvalue = [2, 44]'),\n",
       " Text(48.973404255319146, 33.97500000000002, 'gini = 0.48\\nsamples = 5\\nvalue = [2, 3]'),\n",
       " Text(62.32978723404255, 101.92500000000001, 'X[0] <= 0.5\\ngini = 0.467\\nsamples = 70\\nvalue = [26, 44]'),\n",
       " Text(57.87765957446808, 33.97500000000002, 'gini = 0.493\\nsamples = 43\\nvalue = [19, 24]'),\n",
       " Text(66.78191489361701, 33.97500000000002, 'gini = 0.384\\nsamples = 27\\nvalue = [7, 20]'),\n",
       " Text(106.85106382978722, 237.825, 'X[0] <= 0.5\\ngini = 0.468\\nsamples = 166\\nvalue = [104, 62]'),\n",
       " Text(89.04255319148936, 169.875, 'X[2] <= 0.5\\ngini = 0.489\\nsamples = 94\\nvalue = [40, 54]'),\n",
       " Text(80.13829787234042, 101.92500000000001, 'X[1] <= 2.5\\ngini = 0.305\\nsamples = 32\\nvalue = [6, 26]'),\n",
       " Text(75.68617021276596, 33.97500000000002, 'gini = 0.095\\nsamples = 20\\nvalue = [1, 19]'),\n",
       " Text(84.59042553191489, 33.97500000000002, 'gini = 0.486\\nsamples = 12\\nvalue = [5, 7]'),\n",
       " Text(97.94680851063829, 101.92500000000001, 'X[1] <= 2.5\\ngini = 0.495\\nsamples = 62\\nvalue = [34, 28]'),\n",
       " Text(93.49468085106382, 33.97500000000002, 'gini = 0.497\\nsamples = 39\\nvalue = [21, 18]'),\n",
       " Text(102.39893617021276, 33.97500000000002, 'gini = 0.491\\nsamples = 23\\nvalue = [13, 10]'),\n",
       " Text(124.6595744680851, 169.875, 'X[1] <= 2.5\\ngini = 0.198\\nsamples = 72\\nvalue = [64, 8]'),\n",
       " Text(115.75531914893617, 101.92500000000001, 'X[2] <= 0.5\\ngini = 0.408\\nsamples = 21\\nvalue = [15, 6]'),\n",
       " Text(111.3031914893617, 33.97500000000002, 'gini = 0.0\\nsamples = 5\\nvalue = [5, 0]'),\n",
       " Text(120.20744680851064, 33.97500000000002, 'gini = 0.469\\nsamples = 16\\nvalue = [10, 6]'),\n",
       " Text(133.56382978723403, 101.92500000000001, 'X[2] <= 0.5\\ngini = 0.075\\nsamples = 51\\nvalue = [49, 2]'),\n",
       " Text(129.11170212765956, 33.97500000000002, 'gini = 0.128\\nsamples = 29\\nvalue = [27, 2]'),\n",
       " Text(138.0159574468085, 33.97500000000002, 'gini = 0.0\\nsamples = 22\\nvalue = [22, 0]'),\n",
       " Text(162.50265957446808, 305.775, 'X[2] <= 0.5\\ngini = 0.209\\nsamples = 194\\nvalue = [171, 23]'),\n",
       " Text(151.37234042553192, 237.825, 'X[1] <= 0.5\\ngini = 0.02\\nsamples = 101\\nvalue = [100, 1]'),\n",
       " Text(146.92021276595744, 169.875, 'X[0] <= 2.5\\ngini = 0.041\\nsamples = 48\\nvalue = [47, 1]'),\n",
       " Text(142.46808510638297, 101.92500000000001, 'gini = 0.0\\nsamples = 5\\nvalue = [5, 0]'),\n",
       " Text(151.37234042553192, 101.92500000000001, 'gini = 0.045\\nsamples = 43\\nvalue = [42, 1]'),\n",
       " Text(155.8244680851064, 169.875, 'gini = 0.0\\nsamples = 53\\nvalue = [53, 0]'),\n",
       " Text(173.63297872340425, 237.825, 'X[1] <= 0.5\\ngini = 0.361\\nsamples = 93\\nvalue = [71, 22]'),\n",
       " Text(164.7287234042553, 169.875, 'X[0] <= 2.5\\ngini = 0.459\\nsamples = 56\\nvalue = [36, 20]'),\n",
       " Text(160.27659574468083, 101.92500000000001, 'gini = 0.188\\nsamples = 19\\nvalue = [2, 17]'),\n",
       " Text(169.18085106382978, 101.92500000000001, 'gini = 0.149\\nsamples = 37\\nvalue = [34, 3]'),\n",
       " Text(182.5372340425532, 169.875, 'X[1] <= 1.5\\ngini = 0.102\\nsamples = 37\\nvalue = [35, 2]'),\n",
       " Text(178.08510638297872, 101.92500000000001, 'gini = 0.0\\nsamples = 23\\nvalue = [23, 0]'),\n",
       " Text(186.98936170212764, 101.92500000000001, 'X[0] <= 2.5\\ngini = 0.245\\nsamples = 14\\nvalue = [12, 2]'),\n",
       " Text(182.5372340425532, 33.97500000000002, 'gini = 0.153\\nsamples = 12\\nvalue = [11, 1]'),\n",
       " Text(191.4414893617021, 33.97500000000002, 'gini = 0.5\\nsamples = 2\\nvalue = [1, 1]'),\n",
       " Text(296.62300531914894, 373.725, 'X[0] <= 2.5\\ngini = 0.217\\nsamples = 1201\\nvalue = [1052, 149]'),\n",
       " Text(250.4321808510638, 305.775, 'X[1] <= 0.5\\ngini = 0.142\\nsamples = 1092\\nvalue = [1008, 84]'),\n",
       " Text(224.83244680851064, 237.825, 'X[0] <= 1.5\\ngini = 0.294\\nsamples = 201\\nvalue = [165, 36]'),\n",
       " Text(213.70212765957444, 169.875, 'X[2] <= 2.5\\ngini = 0.187\\nsamples = 163\\nvalue = [146, 17]'),\n",
       " Text(204.79787234042553, 101.92500000000001, 'X[0] <= 0.5\\ngini = 0.323\\nsamples = 69\\nvalue = [55, 14]'),\n",
       " Text(200.34574468085106, 33.97500000000002, 'gini = 0.091\\nsamples = 42\\nvalue = [40, 2]'),\n",
       " Text(209.25, 33.97500000000002, 'gini = 0.494\\nsamples = 27\\nvalue = [15, 12]'),\n",
       " Text(222.6063829787234, 101.92500000000001, 'X[0] <= 0.5\\ngini = 0.062\\nsamples = 94\\nvalue = [91, 3]'),\n",
       " Text(218.15425531914892, 33.97500000000002, 'gini = 0.078\\nsamples = 49\\nvalue = [47, 2]'),\n",
       " Text(227.05851063829786, 33.97500000000002, 'gini = 0.043\\nsamples = 45\\nvalue = [44, 1]'),\n",
       " Text(235.9627659574468, 169.875, 'X[2] <= 2.5\\ngini = 0.5\\nsamples = 38\\nvalue = [19, 19]'),\n",
       " Text(231.51063829787233, 101.92500000000001, 'gini = 0.423\\nsamples = 23\\nvalue = [7, 16]'),\n",
       " Text(240.41489361702128, 101.92500000000001, 'gini = 0.32\\nsamples = 15\\nvalue = [12, 3]'),\n",
       " Text(276.031914893617, 237.825, 'X[0] <= 0.5\\ngini = 0.102\\nsamples = 891\\nvalue = [843, 48]'),\n",
       " Text(258.2234042553191, 169.875, 'X[1] <= 2.5\\ngini = 0.042\\nsamples = 326\\nvalue = [319, 7]'),\n",
       " Text(249.3191489361702, 101.92500000000001, 'X[1] <= 1.5\\ngini = 0.015\\nsamples = 264\\nvalue = [262, 2]'),\n",
       " Text(244.86702127659572, 33.97500000000002, 'gini = 0.0\\nsamples = 152\\nvalue = [152, 0]'),\n",
       " Text(253.77127659574467, 33.97500000000002, 'gini = 0.035\\nsamples = 112\\nvalue = [110, 2]'),\n",
       " Text(267.12765957446805, 101.92500000000001, 'X[2] <= 2.5\\ngini = 0.148\\nsamples = 62\\nvalue = [57, 5]'),\n",
       " Text(262.6755319148936, 33.97500000000002, 'gini = 0.162\\nsamples = 45\\nvalue = [41, 4]'),\n",
       " Text(271.57978723404256, 33.97500000000002, 'gini = 0.111\\nsamples = 17\\nvalue = [16, 1]'),\n",
       " Text(293.8404255319149, 169.875, 'X[2] <= 2.5\\ngini = 0.135\\nsamples = 565\\nvalue = [524, 41]'),\n",
       " Text(284.93617021276594, 101.92500000000001, 'X[1] <= 1.5\\ngini = 0.195\\nsamples = 238\\nvalue = [212, 26]'),\n",
       " Text(280.4840425531915, 33.97500000000002, 'gini = 0.287\\nsamples = 69\\nvalue = [57, 12]'),\n",
       " Text(289.3882978723404, 33.97500000000002, 'gini = 0.152\\nsamples = 169\\nvalue = [155, 14]'),\n",
       " Text(302.74468085106383, 101.92500000000001, 'X[0] <= 1.5\\ngini = 0.088\\nsamples = 327\\nvalue = [312, 15]'),\n",
       " Text(298.29255319148933, 33.97500000000002, 'gini = 0.062\\nsamples = 188\\nvalue = [182, 6]'),\n",
       " Text(307.1968085106383, 33.97500000000002, 'gini = 0.121\\nsamples = 139\\nvalue = [130, 9]'),\n",
       " Text(342.813829787234, 305.775, 'X[1] <= 1.5\\ngini = 0.481\\nsamples = 109\\nvalue = [44, 65]'),\n",
       " Text(325.00531914893617, 237.825, 'X[2] <= 2.5\\ngini = 0.414\\nsamples = 82\\nvalue = [24, 58]'),\n",
       " Text(316.1010638297872, 169.875, 'X[1] <= 0.5\\ngini = 0.49\\nsamples = 28\\nvalue = [12, 16]'),\n",
       " Text(311.6489361702128, 101.92500000000001, 'gini = 0.5\\nsamples = 18\\nvalue = [9, 9]'),\n",
       " Text(320.55319148936167, 101.92500000000001, 'gini = 0.42\\nsamples = 10\\nvalue = [3, 7]'),\n",
       " Text(333.9095744680851, 169.875, 'X[1] <= 0.5\\ngini = 0.346\\nsamples = 54\\nvalue = [12, 42]'),\n",
       " Text(329.4574468085106, 101.92500000000001, 'gini = 0.191\\nsamples = 28\\nvalue = [3, 25]'),\n",
       " Text(338.36170212765956, 101.92500000000001, 'gini = 0.453\\nsamples = 26\\nvalue = [9, 17]'),\n",
       " Text(360.6223404255319, 237.825, 'X[1] <= 2.5\\ngini = 0.384\\nsamples = 27\\nvalue = [20, 7]'),\n",
       " Text(351.71808510638294, 169.875, 'X[2] <= 2.5\\ngini = 0.486\\nsamples = 12\\nvalue = [7, 5]'),\n",
       " Text(347.2659574468085, 101.92500000000001, 'gini = 0.0\\nsamples = 1\\nvalue = [0, 1]'),\n",
       " Text(356.17021276595744, 101.92500000000001, 'gini = 0.463\\nsamples = 11\\nvalue = [7, 4]'),\n",
       " Text(369.52659574468083, 169.875, 'X[2] <= 2.5\\ngini = 0.231\\nsamples = 15\\nvalue = [13, 2]'),\n",
       " Text(365.0744680851064, 101.92500000000001, 'gini = 0.0\\nsamples = 5\\nvalue = [5, 0]'),\n",
       " Text(373.9787234042553, 101.92500000000001, 'gini = 0.32\\nsamples = 10\\nvalue = [8, 2]'),\n",
       " Text(618.845744680851, 441.675, 'X[2] <= 2.5\\ngini = 0.359\\nsamples = 5751\\nvalue = [1348, 4403]'),\n",
       " Text(516.4468085106382, 373.725, 'X[0] <= 1.5\\ngini = 0.401\\nsamples = 4480\\nvalue = [1243, 3237]'),\n",
       " Text(445.2127659574468, 305.775, 'X[2] <= 1.5\\ngini = 0.276\\nsamples = 2264\\nvalue = [375, 1889]'),\n",
       " Text(409.59574468085106, 237.825, 'X[1] <= 2.5\\ngini = 0.229\\nsamples = 1887\\nvalue = [249, 1638]'),\n",
       " Text(391.78723404255317, 169.875, 'X[2] <= 0.5\\ngini = 0.112\\nsamples = 1178\\nvalue = [70, 1108]'),\n",
       " Text(382.8829787234042, 101.92500000000001, 'X[1] <= 0.5\\ngini = 0.06\\nsamples = 711\\nvalue = [22, 689]'),\n",
       " Text(378.4308510638298, 33.97500000000002, 'gini = 0.044\\nsamples = 265\\nvalue = [6, 259]'),\n",
       " Text(387.3351063829787, 33.97500000000002, 'gini = 0.069\\nsamples = 446\\nvalue = [16, 430]'),\n",
       " Text(400.6914893617021, 101.92500000000001, 'X[0] <= 0.5\\ngini = 0.184\\nsamples = 467\\nvalue = [48, 419]'),\n",
       " Text(396.23936170212767, 33.97500000000002, 'gini = 0.419\\nsamples = 124\\nvalue = [37, 87]'),\n",
       " Text(405.14361702127655, 33.97500000000002, 'gini = 0.062\\nsamples = 343\\nvalue = [11, 332]'),\n",
       " Text(427.4042553191489, 169.875, 'X[0] <= 0.5\\ngini = 0.377\\nsamples = 709\\nvalue = [179, 530]'),\n",
       " Text(418.5, 101.92500000000001, 'X[3] <= 1.5\\ngini = 0.156\\nsamples = 445\\nvalue = [38, 407]'),\n",
       " Text(414.0478723404255, 33.97500000000002, 'gini = 0.408\\nsamples = 63\\nvalue = [18, 45]'),\n",
       " Text(422.95212765957444, 33.97500000000002, 'gini = 0.099\\nsamples = 382\\nvalue = [20, 362]'),\n",
       " Text(436.30851063829783, 101.92500000000001, 'X[2] <= 0.5\\ngini = 0.498\\nsamples = 264\\nvalue = [141, 123]'),\n",
       " Text(431.8563829787234, 33.97500000000002, 'gini = 0.243\\nsamples = 113\\nvalue = [97, 16]'),\n",
       " Text(440.76063829787233, 33.97500000000002, 'gini = 0.413\\nsamples = 151\\nvalue = [44, 107]'),\n",
       " Text(480.82978723404256, 237.825, 'X[0] <= 0.5\\ngini = 0.445\\nsamples = 377\\nvalue = [126, 251]'),\n",
       " Text(463.02127659574467, 169.875, 'X[1] <= 2.5\\ngini = 0.403\\nsamples = 136\\nvalue = [98, 38]'),\n",
       " Text(454.1170212765957, 101.92500000000001, 'X[3] <= 1.5\\ngini = 0.113\\nsamples = 83\\nvalue = [78, 5]'),\n",
       " Text(449.6648936170213, 33.97500000000002, 'gini = 0.062\\nsamples = 62\\nvalue = [60, 2]'),\n",
       " Text(458.56914893617017, 33.97500000000002, 'gini = 0.245\\nsamples = 21\\nvalue = [18, 3]'),\n",
       " Text(471.9255319148936, 101.92500000000001, 'X[3] <= 1.5\\ngini = 0.47\\nsamples = 53\\nvalue = [20, 33]'),\n",
       " Text(467.4734042553191, 33.97500000000002, 'gini = 0.413\\nsamples = 24\\nvalue = [17, 7]'),\n",
       " Text(476.37765957446805, 33.97500000000002, 'gini = 0.185\\nsamples = 29\\nvalue = [3, 26]'),\n",
       " Text(498.6382978723404, 169.875, 'X[3] <= 1.5\\ngini = 0.205\\nsamples = 241\\nvalue = [28, 213]'),\n",
       " Text(489.73404255319144, 101.92500000000001, 'X[1] <= 2.5\\ngini = 0.342\\nsamples = 64\\nvalue = [14, 50]'),\n",
       " Text(485.281914893617, 33.97500000000002, 'gini = 0.219\\nsamples = 40\\nvalue = [5, 35]'),\n",
       " Text(494.18617021276594, 33.97500000000002, 'gini = 0.469\\nsamples = 24\\nvalue = [9, 15]'),\n",
       " Text(507.54255319148933, 101.92500000000001, 'X[1] <= 2.5\\ngini = 0.146\\nsamples = 177\\nvalue = [14, 163]'),\n",
       " Text(503.0904255319149, 33.97500000000002, 'gini = 0.06\\nsamples = 65\\nvalue = [2, 63]'),\n",
       " Text(511.99468085106383, 33.97500000000002, 'gini = 0.191\\nsamples = 112\\nvalue = [12, 100]'),\n",
       " Text(587.6808510638298, 305.775, 'X[2] <= 0.5\\ngini = 0.477\\nsamples = 2216\\nvalue = [868, 1348]'),\n",
       " Text(552.063829787234, 237.825, 'X[3] <= 1.5\\ngini = 0.322\\nsamples = 471\\nvalue = [376, 95]'),\n",
       " Text(534.2553191489361, 169.875, 'X[0] <= 2.5\\ngini = 0.232\\nsamples = 164\\nvalue = [142, 22]'),\n",
       " Text(525.3510638297872, 101.92500000000001, 'X[1] <= 0.5\\ngini = 0.304\\nsamples = 75\\nvalue = [61, 14]'),\n",
       " Text(520.8989361702128, 33.97500000000002, 'gini = 0.18\\nsamples = 10\\nvalue = [1, 9]'),\n",
       " Text(529.8031914893617, 33.97500000000002, 'gini = 0.142\\nsamples = 65\\nvalue = [60, 5]'),\n",
       " Text(543.1595744680851, 101.92500000000001, 'X[1] <= 1.5\\ngini = 0.164\\nsamples = 89\\nvalue = [81, 8]'),\n",
       " Text(538.7074468085107, 33.97500000000002, 'gini = 0.091\\nsamples = 84\\nvalue = [80, 4]'),\n",
       " Text(547.6117021276596, 33.97500000000002, 'gini = 0.32\\nsamples = 5\\nvalue = [1, 4]'),\n",
       " Text(569.8723404255319, 169.875, 'X[1] <= 0.5\\ngini = 0.362\\nsamples = 307\\nvalue = [234, 73]'),\n",
       " Text(560.968085106383, 101.92500000000001, 'X[0] <= 2.5\\ngini = 0.425\\nsamples = 49\\nvalue = [34, 15]'),\n",
       " Text(556.5159574468084, 33.97500000000002, 'gini = 0.0\\nsamples = 10\\nvalue = [0, 10]'),\n",
       " Text(565.4202127659574, 33.97500000000002, 'gini = 0.224\\nsamples = 39\\nvalue = [34, 5]'),\n",
       " Text(578.7765957446808, 101.92500000000001, 'X[0] <= 2.5\\ngini = 0.349\\nsamples = 258\\nvalue = [200, 58]'),\n",
       " Text(574.3244680851063, 33.97500000000002, 'gini = 0.315\\nsamples = 158\\nvalue = [127, 31]'),\n",
       " Text(583.2287234042553, 33.97500000000002, 'gini = 0.394\\nsamples = 100\\nvalue = [73, 27]'),\n",
       " Text(623.2978723404256, 237.825, 'X[2] <= 1.5\\ngini = 0.405\\nsamples = 1745\\nvalue = [492, 1253]'),\n",
       " Text(605.4893617021277, 169.875, 'X[0] <= 2.5\\ngini = 0.486\\nsamples = 760\\nvalue = [317, 443]'),\n",
       " Text(596.5851063829787, 101.92500000000001, 'X[1] <= 1.5\\ngini = 0.433\\nsamples = 359\\nvalue = [114, 245]'),\n",
       " Text(592.1329787234042, 33.97500000000002, 'gini = 0.181\\nsamples = 149\\nvalue = [15, 134]'),\n",
       " Text(601.0372340425531, 33.97500000000002, 'gini = 0.498\\nsamples = 210\\nvalue = [99, 111]'),\n",
       " Text(614.3936170212766, 101.92500000000001, 'X[1] <= 1.5\\ngini = 0.5\\nsamples = 401\\nvalue = [203, 198]'),\n",
       " Text(609.9414893617021, 33.97500000000002, 'gini = 0.446\\nsamples = 265\\nvalue = [176, 89]'),\n",
       " Text(618.845744680851, 33.97500000000002, 'gini = 0.318\\nsamples = 136\\nvalue = [27, 109]'),\n",
       " Text(641.1063829787233, 169.875, 'X[3] <= 2.5\\ngini = 0.292\\nsamples = 985\\nvalue = [175, 810]'),\n",
       " Text(632.2021276595744, 101.92500000000001, 'X[1] <= 1.5\\ngini = 0.215\\nsamples = 710\\nvalue = [87, 623]'),\n",
       " Text(627.75, 33.97500000000002, 'gini = 0.279\\nsamples = 387\\nvalue = [65, 322]'),\n",
       " Text(636.6542553191489, 33.97500000000002, 'gini = 0.127\\nsamples = 323\\nvalue = [22, 301]'),\n",
       " Text(650.0106382978723, 101.92500000000001, 'X[0] <= 2.5\\ngini = 0.435\\nsamples = 275\\nvalue = [88, 187]'),\n",
       " Text(645.5585106382979, 33.97500000000002, 'gini = 0.285\\nsamples = 174\\nvalue = [30, 144]'),\n",
       " Text(654.4627659574468, 33.97500000000002, 'gini = 0.489\\nsamples = 101\\nvalue = [58, 43]'),\n",
       " Text(721.2446808510638, 373.725, 'X[0] <= 0.5\\ngini = 0.152\\nsamples = 1271\\nvalue = [105, 1166]'),\n",
       " Text(676.7234042553191, 305.775, 'X[3] <= 1.5\\ngini = 0.31\\nsamples = 47\\nvalue = [38, 9]'),\n",
       " Text(667.8191489361702, 237.825, 'X[1] <= 1.5\\ngini = 0.142\\nsamples = 39\\nvalue = [36, 3]'),\n",
       " Text(663.3670212765957, 169.875, 'X[1] <= 0.5\\ngini = 0.17\\nsamples = 32\\nvalue = [29, 3]'),\n",
       " Text(658.9148936170212, 101.92500000000001, 'gini = 0.124\\nsamples = 15\\nvalue = [14, 1]'),\n",
       " Text(667.8191489361702, 101.92500000000001, 'gini = 0.208\\nsamples = 17\\nvalue = [15, 2]'),\n",
       " Text(672.2712765957447, 169.875, 'gini = 0.0\\nsamples = 7\\nvalue = [7, 0]'),\n",
       " Text(685.627659574468, 237.825, 'X[1] <= 1.5\\ngini = 0.375\\nsamples = 8\\nvalue = [2, 6]'),\n",
       " Text(681.1755319148936, 169.875, 'gini = 0.0\\nsamples = 1\\nvalue = [1, 0]'),\n",
       " Text(690.0797872340426, 169.875, 'X[3] <= 2.5\\ngini = 0.245\\nsamples = 7\\nvalue = [1, 6]'),\n",
       " Text(685.627659574468, 101.92500000000001, 'gini = 0.375\\nsamples = 4\\nvalue = [1, 3]'),\n",
       " Text(694.531914893617, 101.92500000000001, 'gini = 0.0\\nsamples = 3\\nvalue = [0, 3]'),\n",
       " Text(765.7659574468084, 305.775, 'X[3] <= 2.5\\ngini = 0.103\\nsamples = 1224\\nvalue = [67, 1157]'),\n",
       " Text(730.1489361702128, 237.825, 'X[1] <= 0.5\\ngini = 0.081\\nsamples = 1047\\nvalue = [44, 1003]'),\n",
       " Text(712.3404255319149, 169.875, 'X[3] <= 1.5\\ngini = 0.133\\nsamples = 307\\nvalue = [22, 285]'),\n",
       " Text(703.4361702127659, 101.92500000000001, 'X[0] <= 1.5\\ngini = 0.115\\nsamples = 180\\nvalue = [11, 169]'),\n",
       " Text(698.9840425531914, 33.97500000000002, 'gini = 0.375\\nsamples = 4\\nvalue = [1, 3]'),\n",
       " Text(707.8882978723404, 33.97500000000002, 'gini = 0.107\\nsamples = 176\\nvalue = [10, 166]'),\n",
       " Text(721.2446808510638, 101.92500000000001, 'X[0] <= 2.5\\ngini = 0.158\\nsamples = 127\\nvalue = [11, 116]'),\n",
       " Text(716.7925531914893, 33.97500000000002, 'gini = 0.084\\nsamples = 68\\nvalue = [3, 65]'),\n",
       " Text(725.6968085106382, 33.97500000000002, 'gini = 0.234\\nsamples = 59\\nvalue = [8, 51]'),\n",
       " Text(747.9574468085106, 169.875, 'X[0] <= 1.5\\ngini = 0.058\\nsamples = 740\\nvalue = [22, 718]'),\n",
       " Text(739.0531914893617, 101.92500000000001, 'X[3] <= 1.5\\ngini = 0.154\\nsamples = 83\\nvalue = [7, 76]'),\n",
       " Text(734.6010638297872, 33.97500000000002, 'gini = 0.403\\nsamples = 25\\nvalue = [7, 18]'),\n",
       " Text(743.5053191489361, 33.97500000000002, 'gini = 0.0\\nsamples = 58\\nvalue = [0, 58]'),\n",
       " Text(756.8617021276596, 101.92500000000001, 'X[1] <= 2.5\\ngini = 0.045\\nsamples = 657\\nvalue = [15, 642]'),\n",
       " Text(752.4095744680851, 33.97500000000002, 'gini = 0.049\\nsamples = 522\\nvalue = [13, 509]'),\n",
       " Text(761.313829787234, 33.97500000000002, 'gini = 0.029\\nsamples = 135\\nvalue = [2, 133]'),\n",
       " Text(801.3829787234042, 237.825, 'X[0] <= 2.5\\ngini = 0.226\\nsamples = 177\\nvalue = [23, 154]'),\n",
       " Text(783.5744680851063, 169.875, 'X[1] <= 1.5\\ngini = 0.131\\nsamples = 142\\nvalue = [10, 132]'),\n",
       " Text(774.6702127659574, 101.92500000000001, 'X[0] <= 1.5\\ngini = 0.101\\nsamples = 56\\nvalue = [3, 53]'),\n",
       " Text(770.2180851063829, 33.97500000000002, 'gini = 0.245\\nsamples = 21\\nvalue = [3, 18]'),\n",
       " Text(779.1223404255319, 33.97500000000002, 'gini = 0.0\\nsamples = 35\\nvalue = [0, 35]'),\n",
       " Text(792.4787234042553, 101.92500000000001, 'X[0] <= 1.5\\ngini = 0.15\\nsamples = 86\\nvalue = [7, 79]'),\n",
       " Text(788.0265957446808, 33.97500000000002, 'gini = 0.0\\nsamples = 35\\nvalue = [0, 35]'),\n",
       " Text(796.9308510638298, 33.97500000000002, 'gini = 0.237\\nsamples = 51\\nvalue = [7, 44]'),\n",
       " Text(819.1914893617021, 169.875, 'X[1] <= 1.5\\ngini = 0.467\\nsamples = 35\\nvalue = [13, 22]'),\n",
       " Text(810.2872340425531, 101.92500000000001, 'X[1] <= 0.5\\ngini = 0.494\\nsamples = 18\\nvalue = [10, 8]'),\n",
       " Text(805.8351063829787, 33.97500000000002, 'gini = 0.48\\nsamples = 10\\nvalue = [6, 4]'),\n",
       " Text(814.7393617021277, 33.97500000000002, 'gini = 0.5\\nsamples = 8\\nvalue = [4, 4]'),\n",
       " Text(828.095744680851, 101.92500000000001, 'X[1] <= 2.5\\ngini = 0.291\\nsamples = 17\\nvalue = [3, 14]'),\n",
       " Text(823.6436170212766, 33.97500000000002, 'gini = 0.278\\nsamples = 12\\nvalue = [2, 10]'),\n",
       " Text(832.5478723404254, 33.97500000000002, 'gini = 0.32\\nsamples = 5\\nvalue = [1, 4]')]"
      ]
     },
     "execution_count": 507,
     "metadata": {},
     "output_type": "execute_result"
    },
    {
     "data": {
      "image/png": "[encoded data removed]",
      "text/plain": [
       "<Figure size 1080x720 with 1 Axes>"
      ]
     },
     "metadata": {
      "needs_background": "light"
     },
     "output_type": "display_data"
    }
   ],
   "source": [
    "clf2 = tree.DecisionTreeClassifier(max_depth=7)\n",
    "clf2 = clf2.fit(x_train, y_train)\n",
    "\n",
    "tree.plot_tree(clf2)"
   ]
  },
  {
   "cell_type": "code",
   "execution_count": 508,
   "id": "57db97c5",
   "metadata": {},
   "outputs": [
    {
     "data": {
      "text/plain": [
       "0.8733055265901981"
      ]
     },
     "execution_count": 508,
     "metadata": {},
     "output_type": "execute_result"
    }
   ],
   "source": [
    "accuracy_score(y_test, clf2.fit(x_train, y_train).predict(x_test))"
   ]
  },
  {
   "cell_type": "code",
   "execution_count": 509,
   "id": "fe4ff7e7",
   "metadata": {},
   "outputs": [
    {
     "data": {
      "text/plain": [
       "0.882903981264637"
      ]
     },
     "execution_count": 509,
     "metadata": {},
     "output_type": "execute_result"
    }
   ],
   "source": [
    "precision_score(y_test, clf2.fit(x_train, y_train).predict(x_test))"
   ]
  },
  {
   "cell_type": "code",
   "execution_count": 510,
   "id": "c882c0f5",
   "metadata": {},
   "outputs": [
    {
     "data": {
      "text/plain": [
       "0.9240196078431373"
      ]
     },
     "execution_count": 510,
     "metadata": {},
     "output_type": "execute_result"
    }
   ],
   "source": [
    "recall_score(y_test, clf2.fit(x_train, y_train).predict(x_test))"
   ]
  },
  {
   "cell_type": "code",
   "execution_count": 132,
   "id": "1fe8a83a",
   "metadata": {},
   "outputs": [
    {
     "name": "stdout",
     "output_type": "stream",
     "text": [
      "0.7543356369800496\n",
      "0.735140771637122\n",
      "0.762420133002999\n",
      "0.751303441084463\n",
      "0.7926717955404877\n",
      "0.7904066736183525\n",
      "0.8424827226496284\n",
      "0.8326381647549531\n"
     ]
    }
   ],
   "source": [
    "from sklearn.tree import DecisionTreeClassifier\n",
    "\n",
    "results = []\n",
    "estimators = []\n",
    "for i in range(1, x_train.shape[1] +1):  \n",
    "    row = {'model_complexity': i}\n",
    "    \n",
    "    clf = DecisionTreeClassifier(max_depth = i) \n",
    "    \n",
    "    pred = clf.fit(x_train, y_train).predict(x_train) \n",
    "    \n",
    "    row['train'] = 1-accuracy_score(y_train, pred) \n",
    "    print(accuracy_score(y_train, pred))\n",
    "    \n",
    "    pred = clf.predict(x_test)\n",
    "    \n",
    "    row['test'] = 1-accuracy_score(y_test, pred) \n",
    "    print(accuracy_score(y_test, pred))\n",
    "    results.append(row)\n",
    "    estimators.append(clf)"
   ]
  },
  {
   "cell_type": "code",
   "execution_count": 512,
   "id": "55122647",
   "metadata": {},
   "outputs": [
    {
     "data": {
      "text/html": [
       "<div>\n",
       "<style scoped>\n",
       "    .dataframe tbody tr th:only-of-type {\n",
       "        vertical-align: middle;\n",
       "    }\n",
       "\n",
       "    .dataframe tbody tr th {\n",
       "        vertical-align: top;\n",
       "    }\n",
       "\n",
       "    .dataframe thead th {\n",
       "        text-align: right;\n",
       "    }\n",
       "</style>\n",
       "<table border=\"1\" class=\"dataframe\">\n",
       "  <thead>\n",
       "    <tr style=\"text-align: right;\">\n",
       "      <th></th>\n",
       "      <th>model_complexity</th>\n",
       "      <th>train</th>\n",
       "      <th>test</th>\n",
       "    </tr>\n",
       "  </thead>\n",
       "  <tbody>\n",
       "    <tr>\n",
       "      <th>0</th>\n",
       "      <td>1</td>\n",
       "      <td>0.248011</td>\n",
       "      <td>0.258603</td>\n",
       "    </tr>\n",
       "    <tr>\n",
       "      <th>1</th>\n",
       "      <td>2</td>\n",
       "      <td>0.235885</td>\n",
       "      <td>0.246611</td>\n",
       "    </tr>\n",
       "    <tr>\n",
       "      <th>2</th>\n",
       "      <td>3</td>\n",
       "      <td>0.210067</td>\n",
       "      <td>0.222106</td>\n",
       "    </tr>\n",
       "    <tr>\n",
       "      <th>3</th>\n",
       "      <td>4</td>\n",
       "      <td>0.165732</td>\n",
       "      <td>0.171011</td>\n",
       "    </tr>\n",
       "  </tbody>\n",
       "</table>\n",
       "</div>"
      ],
      "text/plain": [
       "   model_complexity     train      test\n",
       "0                 1  0.248011  0.258603\n",
       "1                 2  0.235885  0.246611\n",
       "2                 3  0.210067  0.222106\n",
       "3                 4  0.165732  0.171011"
      ]
     },
     "execution_count": 512,
     "metadata": {},
     "output_type": "execute_result"
    }
   ],
   "source": [
    "complexity_df = pd.DataFrame(results)\n",
    "complexity_df.head()"
   ]
  },
  {
   "cell_type": "code",
   "execution_count": 513,
   "id": "8ebe8a12",
   "metadata": {},
   "outputs": [
    {
     "data": {
      "text/plain": [
       "<AxesSubplot:xlabel='model_complexity'>"
      ]
     },
     "execution_count": 513,
     "metadata": {},
     "output_type": "execute_result"
    },
    {
     "data": {
      "image/png": "[encoded data removed]",
      "text/plain": [
       "<Figure size 1080x720 with 1 Axes>"
      ]
     },
     "metadata": {
      "needs_background": "light"
     },
     "output_type": "display_data"
    }
   ],
   "source": [
    "complexity_df.plot(x='model_complexity')"
   ]
  },
  {
   "cell_type": "markdown",
   "id": "ec35f068",
   "metadata": {},
   "source": [
    "S rastúcou zložitosťou sa na trenovacej množine sa chyba znižuje o niečo viac ako pri testovacej množine až sa zmenšovať prestane. Znamená to, že takýto model je preučený a na trénovacej množine bude fungovať, no s inými dátami nie. Stačí nám jednoduchší model."
   ]
  },
  {
   "cell_type": "markdown",
   "id": "4a1ce8b1",
   "metadata": {},
   "source": [
    "Výsledky modelu, ktorý bol vytvorený našim OneR algoritmom sú horšie ako výsledky modelu vytvoreného pomocou DecisionTreeClassifier z knižnice sklearn."
   ]
  },
  {
   "cell_type": "markdown",
   "id": "042bfa91",
   "metadata": {},
   "source": [
    "## 3. Optimalizácia - hyperparameter tuning"
   ]
  },
  {
   "cell_type": "markdown",
   "id": "9fa62f99",
   "metadata": {},
   "source": [
    "Veľký vplyv na výsledky decision tree algoritmu z druhého kroku môžu mať hyperparametre. V tejto časti budeme nastavovať parametre tak, aby sme predišli overfittingu a dostali čo najviac optimálny model. Venujeme sa nastavenie parametrov max_depth, min_samples_split, min_samples_leaf, random_state a criterion. "
   ]
  },
  {
   "cell_type": "code",
   "execution_count": 136,
   "id": "b3e05890",
   "metadata": {},
   "outputs": [],
   "source": [
    "def evaluate_model(classifier):\n",
    "    print(\"Train Accuracy :\", accuracy_score(y_train, classifier.predict(x_train)))\n",
    "    print(\"Train Precision\", precision_score(y_train, classifier.predict(x_train)))\n",
    "    print(\"Train Recall\", recall_score(y_train, classifier.predict(x_train)))\n",
    "    print(\"Test Accuracy :\", accuracy_score(y_test, classifier.predict(x_test)))\n",
    "    print(\"Test Precision\", precision_score(y_test, classifier.predict(x_test)))\n",
    "    print(\"Test Recall\", recall_score(y_test, classifier.predict(x_test)))\n",
    "    "
   ]
  },
  {
   "cell_type": "code",
   "execution_count": 141,
   "id": "9ea13a2a",
   "metadata": {},
   "outputs": [
    {
     "name": "stdout",
     "output_type": "stream",
     "text": [
      "0.8965966879645325\n",
      "0.881126173096976\n"
     ]
    },
    {
     "data": {
      "text/plain": [
       "array([[2235,  477],\n",
       "       [ 316, 4641]], dtype=int64)"
      ]
     },
     "execution_count": 141,
     "metadata": {},
     "output_type": "execute_result"
    }
   ],
   "source": [
    "from sklearn.metrics import confusion_matrix, accuracy_score\n",
    "from sklearn.model_selection import cross_val_score\n",
    "\n",
    "clf = DecisionTreeClassifier(max_depth = 7)\n",
    "clf.fit(x_train, y_train)\n",
    "y_train_pred = clf.predict(x_train)\n",
    "y_test_pred = clf.predict(x_test)\n",
    "\n",
    "print(accuracy_score(y_train, y_train_pred))\n",
    "print(accuracy_score(y_test, y_test_pred))\n",
    "confusion_matrix(y_train, y_train_pred)"
   ]
  },
  {
   "cell_type": "code",
   "execution_count": 555,
   "id": "66714391",
   "metadata": {},
   "outputs": [
    {
     "name": "stdout",
     "output_type": "stream",
     "text": [
      "0.8733055265901981\n"
     ]
    },
    {
     "data": {
      "text/plain": [
       "array([[ 544,  150],\n",
       "       [  93, 1131]], dtype=int64)"
      ]
     },
     "execution_count": 555,
     "metadata": {},
     "output_type": "execute_result"
    }
   ],
   "source": [
    "print(accuracy_score(y_test, y_test_pred))\n",
    "confusion_matrix(y_test, y_test_pred)"
   ]
  },
  {
   "cell_type": "markdown",
   "id": "8284aa16",
   "metadata": {},
   "source": [
    "Random_state riadi náhodnosť v rámci odhadu a defaultne je nastavený na None. Funkcie sú vždy náhodne permutované pri každom rozdelení, aj keď je splitter nastavený na „best“."
   ]
  },
  {
   "cell_type": "code",
   "execution_count": 556,
   "id": "995674dd",
   "metadata": {},
   "outputs": [
    {
     "data": {
      "text/plain": [
       "DecisionTreeClassifier(random_state=10)"
      ]
     },
     "execution_count": 556,
     "metadata": {},
     "output_type": "execute_result"
    }
   ],
   "source": [
    "# random state\n",
    "model_r = DecisionTreeClassifier(random_state=10)\n",
    "model_r.fit(x_train, y_train)"
   ]
  },
  {
   "cell_type": "code",
   "execution_count": 557,
   "id": "15621e59",
   "metadata": {},
   "outputs": [
    {
     "name": "stdout",
     "output_type": "stream",
     "text": [
      "Train Accuracy : 0.888512191941583\n",
      "Train Precision 0.9031053459119497\n",
      "Train Recall 0.9269719588460763\n",
      "Test Accuracy : 0.8806047966631908\n",
      "Test Precision 0.8932806324110671\n",
      "Test Recall 0.923202614379085\n",
      "[0.85       0.87793427 0.86697966]\n"
     ]
    }
   ],
   "source": [
    "evaluate_model(model_r)\n",
    "print(cross_val_score(model_r, x_test, y_test, cv=3))"
   ]
  },
  {
   "cell_type": "markdown",
   "id": "e3cc6ce6",
   "metadata": {},
   "source": [
    "max_depth predstavuje maximálnu hĺbku stromu. Ak nie je nastavená, uzly sa rozšírujú, až kým nie sú všetky uzly čisté alebo kým neobsahujú menej niž min_samples_split vzoriek."
   ]
  },
  {
   "cell_type": "code",
   "execution_count": 558,
   "id": "eeb2ebe5",
   "metadata": {},
   "outputs": [
    {
     "data": {
      "text/plain": [
       "DecisionTreeClassifier(max_depth=3)"
      ]
     },
     "execution_count": 558,
     "metadata": {},
     "output_type": "execute_result"
    }
   ],
   "source": [
    "# depth\n",
    "model_d = DecisionTreeClassifier(max_depth=3)\n",
    "model_d.fit(x_train, y_train)"
   ]
  },
  {
   "cell_type": "code",
   "execution_count": 559,
   "id": "c92e86af",
   "metadata": {},
   "outputs": [
    {
     "name": "stdout",
     "output_type": "stream",
     "text": [
      "Train Accuracy : 0.7899334985004564\n",
      "Train Precision 0.7640467171717171\n",
      "Train Recall 0.9765987492434941\n",
      "Test Accuracy : 0.7778936392075079\n",
      "Test Precision 0.752851711026616\n",
      "Test Recall 0.9705882352941176\n",
      "[0.7765625  0.81064163 0.79968701]\n"
     ]
    }
   ],
   "source": [
    "evaluate_model(model_d)\n",
    "print(cross_val_score(model_d, x_test, y_test, cv=3))"
   ]
  },
  {
   "cell_type": "markdown",
   "id": "21231b82",
   "metadata": {},
   "source": [
    "min_samples_split: Minimálny počet vzoriek požadovaných na rozdelenie vnútorného uzla, deafultne je nastavený na 2."
   ]
  },
  {
   "cell_type": "code",
   "execution_count": 560,
   "id": "80e2b11b",
   "metadata": {},
   "outputs": [
    {
     "name": "stdout",
     "output_type": "stream",
     "text": [
      "[0.871875   0.87793427 0.87010955]\n"
     ]
    }
   ],
   "source": [
    "model_ms = DecisionTreeClassifier(min_samples_split=10)\n",
    "model_ms.fit(x_train, y_train)\n",
    "print(cross_val_score(model_ms, x_test, y_test, cv=3))"
   ]
  },
  {
   "cell_type": "code",
   "execution_count": 561,
   "id": "2fdc2624",
   "metadata": {},
   "outputs": [
    {
     "name": "stdout",
     "output_type": "stream",
     "text": [
      "Train Accuracy : 0.8882514017472943\n",
      "Train Precision 0.9029088050314465\n",
      "Train Recall 0.9267702239257616\n",
      "Test Accuracy : 0.8800834202294057\n",
      "Test Precision 0.8925750394944708\n",
      "Test Recall 0.923202614379085\n"
     ]
    }
   ],
   "source": [
    "evaluate_model(model_ms)"
   ]
  },
  {
   "cell_type": "markdown",
   "id": "04b79d48",
   "metadata": {},
   "source": [
    "min_samples_leaf: Minimálny počet vzoriek požadovaný na to, aby bol vytvorený list. Bod rozdelenia v akejkoľvek hĺbke sa bude brať do úvahy iba vtedy, ak ponecháva aspoň min_samples_leaf z tréningovej vzorky v každej v ľavej aj pravej vetve. "
   ]
  },
  {
   "cell_type": "code",
   "execution_count": 562,
   "id": "9642a25e",
   "metadata": {},
   "outputs": [
    {
     "name": "stdout",
     "output_type": "stream",
     "text": [
      "[0.8        0.81377152 0.82942097]\n"
     ]
    }
   ],
   "source": [
    "model_ml = DecisionTreeClassifier(min_samples_leaf=25, random_state=10)\n",
    "model_ml.fit(x_train, y_train)\n",
    "print(cross_val_score(model_ml, x_test, y_test, cv=3))"
   ]
  },
  {
   "cell_type": "code",
   "execution_count": 563,
   "id": "02e7a7b4",
   "metadata": {},
   "outputs": [
    {
     "name": "stdout",
     "output_type": "stream",
     "text": [
      "Train Accuracy : 0.8746903116442821\n",
      "Train Precision 0.8916111328890631\n",
      "Train Recall 0.9176921525115997\n",
      "Test Accuracy : 0.8722627737226277\n",
      "Test Precision 0.8857368006304176\n",
      "Test Recall 0.9183006535947712\n"
     ]
    }
   ],
   "source": [
    "evaluate_model(model_ml)"
   ]
  },
  {
   "cell_type": "markdown",
   "id": "ee99669e",
   "metadata": {},
   "source": [
    "criterion: entropy alebo gini, je to funkcia na meranie kvality rozdelenia."
   ]
  },
  {
   "cell_type": "code",
   "execution_count": 564,
   "id": "0d91f84b",
   "metadata": {},
   "outputs": [
    {
     "data": {
      "text/plain": [
       "DecisionTreeClassifier(criterion='entropy', max_depth=7, min_samples_leaf=20,\n",
       "                       random_state=10)"
      ]
     },
     "execution_count": 564,
     "metadata": {},
     "output_type": "execute_result"
    }
   ],
   "source": [
    "model_en = DecisionTreeClassifier(max_depth=7, min_samples_leaf=20, random_state=10, criterion=\"entropy\")\n",
    "model_en.fit(x_train, y_train)"
   ]
  },
  {
   "cell_type": "code",
   "execution_count": 565,
   "id": "7efb85a4",
   "metadata": {},
   "outputs": [
    {
     "name": "stdout",
     "output_type": "stream",
     "text": [
      "Train Accuracy : 0.8726039900899726\n",
      "Train Precision 0.8898902821316614\n",
      "Train Recall 0.9162800080693968\n",
      "Test Accuracy : 0.8660062565172054\n",
      "Test Precision 0.8834258524980174\n",
      "Test Recall 0.9101307189542484\n",
      "[0.8125     0.84663537 0.82942097]\n"
     ]
    }
   ],
   "source": [
    "evaluate_model(model_en)\n",
    "print(cross_val_score(model_en, x_test, y_test, cv=3))"
   ]
  },
  {
   "cell_type": "code",
   "execution_count": 140,
   "id": "337cdb8f",
   "metadata": {},
   "outputs": [
    {
     "name": "stdout",
     "output_type": "stream",
     "text": [
      "Fitting 5 folds for each of 3360 candidates, totalling 16800 fits\n"
     ]
    },
    {
     "data": {
      "text/html": [
       "<div>\n",
       "<style scoped>\n",
       "    .dataframe tbody tr th:only-of-type {\n",
       "        vertical-align: middle;\n",
       "    }\n",
       "\n",
       "    .dataframe tbody tr th {\n",
       "        vertical-align: top;\n",
       "    }\n",
       "\n",
       "    .dataframe thead th {\n",
       "        text-align: right;\n",
       "    }\n",
       "</style>\n",
       "<table border=\"1\" class=\"dataframe\">\n",
       "  <thead>\n",
       "    <tr style=\"text-align: right;\">\n",
       "      <th></th>\n",
       "      <th>mean_fit_time</th>\n",
       "      <th>std_fit_time</th>\n",
       "      <th>mean_score_time</th>\n",
       "      <th>std_score_time</th>\n",
       "      <th>param_criterion</th>\n",
       "      <th>param_max_depth</th>\n",
       "      <th>param_min_samples_leaf</th>\n",
       "      <th>param_min_samples_split</th>\n",
       "      <th>param_random_state</th>\n",
       "      <th>params</th>\n",
       "      <th>split0_test_score</th>\n",
       "      <th>split1_test_score</th>\n",
       "      <th>split2_test_score</th>\n",
       "      <th>split3_test_score</th>\n",
       "      <th>split4_test_score</th>\n",
       "      <th>mean_test_score</th>\n",
       "      <th>std_test_score</th>\n",
       "      <th>rank_test_score</th>\n",
       "    </tr>\n",
       "  </thead>\n",
       "  <tbody>\n",
       "    <tr>\n",
       "      <th>0</th>\n",
       "      <td>0.007635</td>\n",
       "      <td>0.003022</td>\n",
       "      <td>0.002763</td>\n",
       "      <td>0.002938</td>\n",
       "      <td>gini</td>\n",
       "      <td>2</td>\n",
       "      <td>1</td>\n",
       "      <td>2</td>\n",
       "      <td>None</td>\n",
       "      <td>{'criterion': 'gini', 'max_depth': 2, 'min_sam...</td>\n",
       "      <td>0.773794</td>\n",
       "      <td>0.765319</td>\n",
       "      <td>0.752934</td>\n",
       "      <td>0.752934</td>\n",
       "      <td>0.767123</td>\n",
       "      <td>0.762421</td>\n",
       "      <td>0.008245</td>\n",
       "      <td>2881</td>\n",
       "    </tr>\n",
       "    <tr>\n",
       "      <th>1</th>\n",
       "      <td>0.008641</td>\n",
       "      <td>0.001253</td>\n",
       "      <td>0.001910</td>\n",
       "      <td>0.001695</td>\n",
       "      <td>gini</td>\n",
       "      <td>2</td>\n",
       "      <td>1</td>\n",
       "      <td>2</td>\n",
       "      <td>1</td>\n",
       "      <td>{'criterion': 'gini', 'max_depth': 2, 'min_sam...</td>\n",
       "      <td>0.773794</td>\n",
       "      <td>0.765319</td>\n",
       "      <td>0.752934</td>\n",
       "      <td>0.752934</td>\n",
       "      <td>0.767123</td>\n",
       "      <td>0.762421</td>\n",
       "      <td>0.008245</td>\n",
       "      <td>2881</td>\n",
       "    </tr>\n",
       "    <tr>\n",
       "      <th>2</th>\n",
       "      <td>0.006891</td>\n",
       "      <td>0.004894</td>\n",
       "      <td>0.005231</td>\n",
       "      <td>0.003532</td>\n",
       "      <td>gini</td>\n",
       "      <td>2</td>\n",
       "      <td>1</td>\n",
       "      <td>2</td>\n",
       "      <td>2</td>\n",
       "      <td>{'criterion': 'gini', 'max_depth': 2, 'min_sam...</td>\n",
       "      <td>0.773794</td>\n",
       "      <td>0.765319</td>\n",
       "      <td>0.752934</td>\n",
       "      <td>0.752934</td>\n",
       "      <td>0.767123</td>\n",
       "      <td>0.762421</td>\n",
       "      <td>0.008245</td>\n",
       "      <td>2881</td>\n",
       "    </tr>\n",
       "    <tr>\n",
       "      <th>3</th>\n",
       "      <td>0.007778</td>\n",
       "      <td>0.000978</td>\n",
       "      <td>0.003365</td>\n",
       "      <td>0.000977</td>\n",
       "      <td>gini</td>\n",
       "      <td>2</td>\n",
       "      <td>1</td>\n",
       "      <td>2</td>\n",
       "      <td>5</td>\n",
       "      <td>{'criterion': 'gini', 'max_depth': 2, 'min_sam...</td>\n",
       "      <td>0.773794</td>\n",
       "      <td>0.765319</td>\n",
       "      <td>0.752934</td>\n",
       "      <td>0.752934</td>\n",
       "      <td>0.767123</td>\n",
       "      <td>0.762421</td>\n",
       "      <td>0.008245</td>\n",
       "      <td>2881</td>\n",
       "    </tr>\n",
       "    <tr>\n",
       "      <th>4</th>\n",
       "      <td>0.006816</td>\n",
       "      <td>0.002710</td>\n",
       "      <td>0.002710</td>\n",
       "      <td>0.002969</td>\n",
       "      <td>gini</td>\n",
       "      <td>2</td>\n",
       "      <td>1</td>\n",
       "      <td>2</td>\n",
       "      <td>10</td>\n",
       "      <td>{'criterion': 'gini', 'max_depth': 2, 'min_sam...</td>\n",
       "      <td>0.773794</td>\n",
       "      <td>0.765319</td>\n",
       "      <td>0.752934</td>\n",
       "      <td>0.752934</td>\n",
       "      <td>0.767123</td>\n",
       "      <td>0.762421</td>\n",
       "      <td>0.008245</td>\n",
       "      <td>2881</td>\n",
       "    </tr>\n",
       "  </tbody>\n",
       "</table>\n",
       "</div>"
      ],
      "text/plain": [
       "   mean_fit_time  std_fit_time  mean_score_time  std_score_time  \\\n",
       "0       0.007635      0.003022         0.002763        0.002938   \n",
       "1       0.008641      0.001253         0.001910        0.001695   \n",
       "2       0.006891      0.004894         0.005231        0.003532   \n",
       "3       0.007778      0.000978         0.003365        0.000977   \n",
       "4       0.006816      0.002710         0.002710        0.002969   \n",
       "\n",
       "  param_criterion param_max_depth param_min_samples_leaf  \\\n",
       "0            gini               2                      1   \n",
       "1            gini               2                      1   \n",
       "2            gini               2                      1   \n",
       "3            gini               2                      1   \n",
       "4            gini               2                      1   \n",
       "\n",
       "  param_min_samples_split param_random_state  \\\n",
       "0                       2               None   \n",
       "1                       2                  1   \n",
       "2                       2                  2   \n",
       "3                       2                  5   \n",
       "4                       2                 10   \n",
       "\n",
       "                                              params  split0_test_score  \\\n",
       "0  {'criterion': 'gini', 'max_depth': 2, 'min_sam...           0.773794   \n",
       "1  {'criterion': 'gini', 'max_depth': 2, 'min_sam...           0.773794   \n",
       "2  {'criterion': 'gini', 'max_depth': 2, 'min_sam...           0.773794   \n",
       "3  {'criterion': 'gini', 'max_depth': 2, 'min_sam...           0.773794   \n",
       "4  {'criterion': 'gini', 'max_depth': 2, 'min_sam...           0.773794   \n",
       "\n",
       "   split1_test_score  split2_test_score  split3_test_score  split4_test_score  \\\n",
       "0           0.765319           0.752934           0.752934           0.767123   \n",
       "1           0.765319           0.752934           0.752934           0.767123   \n",
       "2           0.765319           0.752934           0.752934           0.767123   \n",
       "3           0.765319           0.752934           0.752934           0.767123   \n",
       "4           0.765319           0.752934           0.752934           0.767123   \n",
       "\n",
       "   mean_test_score  std_test_score  rank_test_score  \n",
       "0         0.762421        0.008245             2881  \n",
       "1         0.762421        0.008245             2881  \n",
       "2         0.762421        0.008245             2881  \n",
       "3         0.762421        0.008245             2881  \n",
       "4         0.762421        0.008245             2881  "
      ]
     },
     "execution_count": 140,
     "metadata": {},
     "output_type": "execute_result"
    }
   ],
   "source": [
    "from sklearn.model_selection import GridSearchCV\n",
    "variants = {\n",
    "    'max_depth': [2, 3, 5, 7, 10, 25, 35],\n",
    "    'min_samples_leaf': [1, 3, 5, 10, 20, 50],\n",
    "    'criterion': [\"gini\", \"entropy\"],\n",
    "    'min_samples_split': [2, 3, 5, 10, 20],\n",
    "    'random_state': [None, 1, 2, 5, 10, 20, 40, 50]\n",
    "}\n",
    "def grid(clf, x_train, y_train):\n",
    "    grid_search = GridSearchCV(estimator=clf, \n",
    "                               param_grid=variants, \n",
    "                               cv=5, n_jobs=-1, verbose=1, scoring = \"accuracy\")\n",
    "\n",
    "    grid_search.fit(x_train, y_train)\n",
    "    score = pd.DataFrame(grid_search.cv_results_)\n",
    "    model_best = grid_search.best_estimator_\n",
    "    return score, model_best\n",
    "score, model_best = grid(clf, x_train, y_train)\n",
    "score.head()"
   ]
  },
  {
   "cell_type": "code",
   "execution_count": 567,
   "id": "5d974087",
   "metadata": {},
   "outputs": [
    {
     "data": {
      "text/html": [
       "<div>\n",
       "<style scoped>\n",
       "    .dataframe tbody tr th:only-of-type {\n",
       "        vertical-align: middle;\n",
       "    }\n",
       "\n",
       "    .dataframe tbody tr th {\n",
       "        vertical-align: top;\n",
       "    }\n",
       "\n",
       "    .dataframe thead th {\n",
       "        text-align: right;\n",
       "    }\n",
       "</style>\n",
       "<table border=\"1\" class=\"dataframe\">\n",
       "  <thead>\n",
       "    <tr style=\"text-align: right;\">\n",
       "      <th></th>\n",
       "      <th>mean_fit_time</th>\n",
       "      <th>std_fit_time</th>\n",
       "      <th>mean_score_time</th>\n",
       "      <th>std_score_time</th>\n",
       "      <th>param_criterion</th>\n",
       "      <th>param_max_depth</th>\n",
       "      <th>param_min_samples_leaf</th>\n",
       "      <th>param_min_samples_split</th>\n",
       "      <th>param_random_state</th>\n",
       "      <th>params</th>\n",
       "      <th>split0_test_score</th>\n",
       "      <th>split1_test_score</th>\n",
       "      <th>split2_test_score</th>\n",
       "      <th>split3_test_score</th>\n",
       "      <th>split4_test_score</th>\n",
       "      <th>mean_test_score</th>\n",
       "      <th>std_test_score</th>\n",
       "      <th>rank_test_score</th>\n",
       "    </tr>\n",
       "  </thead>\n",
       "  <tbody>\n",
       "    <tr>\n",
       "      <th>1040</th>\n",
       "      <td>0.012566</td>\n",
       "      <td>0.002570</td>\n",
       "      <td>0.002393</td>\n",
       "      <td>0.000488</td>\n",
       "      <td>gini</td>\n",
       "      <td>10</td>\n",
       "      <td>5</td>\n",
       "      <td>2</td>\n",
       "      <td>None</td>\n",
       "      <td>{'criterion': 'gini', 'max_depth': 10, 'min_sa...</td>\n",
       "      <td>0.878096</td>\n",
       "      <td>0.885919</td>\n",
       "      <td>0.891786</td>\n",
       "      <td>0.874837</td>\n",
       "      <td>0.883888</td>\n",
       "      <td>0.882905</td>\n",
       "      <td>0.005952</td>\n",
       "      <td>1</td>\n",
       "    </tr>\n",
       "    <tr>\n",
       "      <th>1041</th>\n",
       "      <td>0.007979</td>\n",
       "      <td>0.000891</td>\n",
       "      <td>0.002624</td>\n",
       "      <td>0.000515</td>\n",
       "      <td>gini</td>\n",
       "      <td>10</td>\n",
       "      <td>5</td>\n",
       "      <td>2</td>\n",
       "      <td>1</td>\n",
       "      <td>{'criterion': 'gini', 'max_depth': 10, 'min_sa...</td>\n",
       "      <td>0.878096</td>\n",
       "      <td>0.885919</td>\n",
       "      <td>0.891786</td>\n",
       "      <td>0.874837</td>\n",
       "      <td>0.883888</td>\n",
       "      <td>0.882905</td>\n",
       "      <td>0.005952</td>\n",
       "      <td>1</td>\n",
       "    </tr>\n",
       "    <tr>\n",
       "      <th>1042</th>\n",
       "      <td>0.012536</td>\n",
       "      <td>0.006272</td>\n",
       "      <td>0.002194</td>\n",
       "      <td>0.000398</td>\n",
       "      <td>gini</td>\n",
       "      <td>10</td>\n",
       "      <td>5</td>\n",
       "      <td>2</td>\n",
       "      <td>2</td>\n",
       "      <td>{'criterion': 'gini', 'max_depth': 10, 'min_sa...</td>\n",
       "      <td>0.878096</td>\n",
       "      <td>0.885919</td>\n",
       "      <td>0.891786</td>\n",
       "      <td>0.874837</td>\n",
       "      <td>0.883888</td>\n",
       "      <td>0.882905</td>\n",
       "      <td>0.005952</td>\n",
       "      <td>1</td>\n",
       "    </tr>\n",
       "    <tr>\n",
       "      <th>1043</th>\n",
       "      <td>0.009574</td>\n",
       "      <td>0.002239</td>\n",
       "      <td>0.002195</td>\n",
       "      <td>0.000399</td>\n",
       "      <td>gini</td>\n",
       "      <td>10</td>\n",
       "      <td>5</td>\n",
       "      <td>2</td>\n",
       "      <td>5</td>\n",
       "      <td>{'criterion': 'gini', 'max_depth': 10, 'min_sa...</td>\n",
       "      <td>0.878096</td>\n",
       "      <td>0.885919</td>\n",
       "      <td>0.891786</td>\n",
       "      <td>0.874837</td>\n",
       "      <td>0.883888</td>\n",
       "      <td>0.882905</td>\n",
       "      <td>0.005952</td>\n",
       "      <td>1</td>\n",
       "    </tr>\n",
       "    <tr>\n",
       "      <th>1044</th>\n",
       "      <td>0.009375</td>\n",
       "      <td>0.002410</td>\n",
       "      <td>0.002194</td>\n",
       "      <td>0.000399</td>\n",
       "      <td>gini</td>\n",
       "      <td>10</td>\n",
       "      <td>5</td>\n",
       "      <td>2</td>\n",
       "      <td>10</td>\n",
       "      <td>{'criterion': 'gini', 'max_depth': 10, 'min_sa...</td>\n",
       "      <td>0.878096</td>\n",
       "      <td>0.885919</td>\n",
       "      <td>0.891786</td>\n",
       "      <td>0.874837</td>\n",
       "      <td>0.883888</td>\n",
       "      <td>0.882905</td>\n",
       "      <td>0.005952</td>\n",
       "      <td>1</td>\n",
       "    </tr>\n",
       "    <tr>\n",
       "      <th>1045</th>\n",
       "      <td>0.008777</td>\n",
       "      <td>0.000399</td>\n",
       "      <td>0.002194</td>\n",
       "      <td>0.000399</td>\n",
       "      <td>gini</td>\n",
       "      <td>10</td>\n",
       "      <td>5</td>\n",
       "      <td>2</td>\n",
       "      <td>20</td>\n",
       "      <td>{'criterion': 'gini', 'max_depth': 10, 'min_sa...</td>\n",
       "      <td>0.878096</td>\n",
       "      <td>0.885919</td>\n",
       "      <td>0.891786</td>\n",
       "      <td>0.874837</td>\n",
       "      <td>0.883888</td>\n",
       "      <td>0.882905</td>\n",
       "      <td>0.005952</td>\n",
       "      <td>1</td>\n",
       "    </tr>\n",
       "    <tr>\n",
       "      <th>1046</th>\n",
       "      <td>0.008177</td>\n",
       "      <td>0.000399</td>\n",
       "      <td>0.002394</td>\n",
       "      <td>0.000489</td>\n",
       "      <td>gini</td>\n",
       "      <td>10</td>\n",
       "      <td>5</td>\n",
       "      <td>2</td>\n",
       "      <td>40</td>\n",
       "      <td>{'criterion': 'gini', 'max_depth': 10, 'min_sa...</td>\n",
       "      <td>0.878096</td>\n",
       "      <td>0.885919</td>\n",
       "      <td>0.891786</td>\n",
       "      <td>0.874837</td>\n",
       "      <td>0.883888</td>\n",
       "      <td>0.882905</td>\n",
       "      <td>0.005952</td>\n",
       "      <td>1</td>\n",
       "    </tr>\n",
       "    <tr>\n",
       "      <th>1047</th>\n",
       "      <td>0.010970</td>\n",
       "      <td>0.002274</td>\n",
       "      <td>0.002394</td>\n",
       "      <td>0.000488</td>\n",
       "      <td>gini</td>\n",
       "      <td>10</td>\n",
       "      <td>5</td>\n",
       "      <td>2</td>\n",
       "      <td>50</td>\n",
       "      <td>{'criterion': 'gini', 'max_depth': 10, 'min_sa...</td>\n",
       "      <td>0.878096</td>\n",
       "      <td>0.885919</td>\n",
       "      <td>0.891786</td>\n",
       "      <td>0.874837</td>\n",
       "      <td>0.883888</td>\n",
       "      <td>0.882905</td>\n",
       "      <td>0.005952</td>\n",
       "      <td>1</td>\n",
       "    </tr>\n",
       "    <tr>\n",
       "      <th>1048</th>\n",
       "      <td>0.007981</td>\n",
       "      <td>0.000632</td>\n",
       "      <td>0.002790</td>\n",
       "      <td>0.000747</td>\n",
       "      <td>gini</td>\n",
       "      <td>10</td>\n",
       "      <td>5</td>\n",
       "      <td>3</td>\n",
       "      <td>None</td>\n",
       "      <td>{'criterion': 'gini', 'max_depth': 10, 'min_sa...</td>\n",
       "      <td>0.878096</td>\n",
       "      <td>0.885919</td>\n",
       "      <td>0.891786</td>\n",
       "      <td>0.874837</td>\n",
       "      <td>0.883888</td>\n",
       "      <td>0.882905</td>\n",
       "      <td>0.005952</td>\n",
       "      <td>1</td>\n",
       "    </tr>\n",
       "    <tr>\n",
       "      <th>1049</th>\n",
       "      <td>0.010771</td>\n",
       "      <td>0.002309</td>\n",
       "      <td>0.002794</td>\n",
       "      <td>0.000398</td>\n",
       "      <td>gini</td>\n",
       "      <td>10</td>\n",
       "      <td>5</td>\n",
       "      <td>3</td>\n",
       "      <td>1</td>\n",
       "      <td>{'criterion': 'gini', 'max_depth': 10, 'min_sa...</td>\n",
       "      <td>0.878096</td>\n",
       "      <td>0.885919</td>\n",
       "      <td>0.891786</td>\n",
       "      <td>0.874837</td>\n",
       "      <td>0.883888</td>\n",
       "      <td>0.882905</td>\n",
       "      <td>0.005952</td>\n",
       "      <td>1</td>\n",
       "    </tr>\n",
       "  </tbody>\n",
       "</table>\n",
       "</div>"
      ],
      "text/plain": [
       "      mean_fit_time  std_fit_time  mean_score_time  std_score_time  \\\n",
       "1040       0.012566      0.002570         0.002393        0.000488   \n",
       "1041       0.007979      0.000891         0.002624        0.000515   \n",
       "1042       0.012536      0.006272         0.002194        0.000398   \n",
       "1043       0.009574      0.002239         0.002195        0.000399   \n",
       "1044       0.009375      0.002410         0.002194        0.000399   \n",
       "1045       0.008777      0.000399         0.002194        0.000399   \n",
       "1046       0.008177      0.000399         0.002394        0.000489   \n",
       "1047       0.010970      0.002274         0.002394        0.000488   \n",
       "1048       0.007981      0.000632         0.002790        0.000747   \n",
       "1049       0.010771      0.002309         0.002794        0.000398   \n",
       "\n",
       "     param_criterion param_max_depth param_min_samples_leaf  \\\n",
       "1040            gini              10                      5   \n",
       "1041            gini              10                      5   \n",
       "1042            gini              10                      5   \n",
       "1043            gini              10                      5   \n",
       "1044            gini              10                      5   \n",
       "1045            gini              10                      5   \n",
       "1046            gini              10                      5   \n",
       "1047            gini              10                      5   \n",
       "1048            gini              10                      5   \n",
       "1049            gini              10                      5   \n",
       "\n",
       "     param_min_samples_split param_random_state  \\\n",
       "1040                       2               None   \n",
       "1041                       2                  1   \n",
       "1042                       2                  2   \n",
       "1043                       2                  5   \n",
       "1044                       2                 10   \n",
       "1045                       2                 20   \n",
       "1046                       2                 40   \n",
       "1047                       2                 50   \n",
       "1048                       3               None   \n",
       "1049                       3                  1   \n",
       "\n",
       "                                                 params  split0_test_score  \\\n",
       "1040  {'criterion': 'gini', 'max_depth': 10, 'min_sa...           0.878096   \n",
       "1041  {'criterion': 'gini', 'max_depth': 10, 'min_sa...           0.878096   \n",
       "1042  {'criterion': 'gini', 'max_depth': 10, 'min_sa...           0.878096   \n",
       "1043  {'criterion': 'gini', 'max_depth': 10, 'min_sa...           0.878096   \n",
       "1044  {'criterion': 'gini', 'max_depth': 10, 'min_sa...           0.878096   \n",
       "1045  {'criterion': 'gini', 'max_depth': 10, 'min_sa...           0.878096   \n",
       "1046  {'criterion': 'gini', 'max_depth': 10, 'min_sa...           0.878096   \n",
       "1047  {'criterion': 'gini', 'max_depth': 10, 'min_sa...           0.878096   \n",
       "1048  {'criterion': 'gini', 'max_depth': 10, 'min_sa...           0.878096   \n",
       "1049  {'criterion': 'gini', 'max_depth': 10, 'min_sa...           0.878096   \n",
       "\n",
       "      split1_test_score  split2_test_score  split3_test_score  \\\n",
       "1040           0.885919           0.891786           0.874837   \n",
       "1041           0.885919           0.891786           0.874837   \n",
       "1042           0.885919           0.891786           0.874837   \n",
       "1043           0.885919           0.891786           0.874837   \n",
       "1044           0.885919           0.891786           0.874837   \n",
       "1045           0.885919           0.891786           0.874837   \n",
       "1046           0.885919           0.891786           0.874837   \n",
       "1047           0.885919           0.891786           0.874837   \n",
       "1048           0.885919           0.891786           0.874837   \n",
       "1049           0.885919           0.891786           0.874837   \n",
       "\n",
       "      split4_test_score  mean_test_score  std_test_score  rank_test_score  \n",
       "1040           0.883888         0.882905        0.005952                1  \n",
       "1041           0.883888         0.882905        0.005952                1  \n",
       "1042           0.883888         0.882905        0.005952                1  \n",
       "1043           0.883888         0.882905        0.005952                1  \n",
       "1044           0.883888         0.882905        0.005952                1  \n",
       "1045           0.883888         0.882905        0.005952                1  \n",
       "1046           0.883888         0.882905        0.005952                1  \n",
       "1047           0.883888         0.882905        0.005952                1  \n",
       "1048           0.883888         0.882905        0.005952                1  \n",
       "1049           0.883888         0.882905        0.005952                1  "
      ]
     },
     "execution_count": 567,
     "metadata": {},
     "output_type": "execute_result"
    }
   ],
   "source": [
    "score.nlargest(10,\"mean_test_score\")"
   ]
  },
  {
   "cell_type": "code",
   "execution_count": 568,
   "id": "bc37233c",
   "metadata": {},
   "outputs": [
    {
     "name": "stdout",
     "output_type": "stream",
     "text": [
      "Train Accuracy : 0.8881210066501499\n",
      "Train Precision 0.9028897188912915\n",
      "Train Recall 0.9265684890054469\n",
      "Test Accuracy : 0.8800834202294057\n",
      "Test Precision 0.8925750394944708\n",
      "Test Recall 0.923202614379085\n",
      "[0.86875    0.88419405 0.87167449]\n"
     ]
    }
   ],
   "source": [
    "# zatiaľ najlepší model\n",
    "evaluate_model(model_best)\n",
    "print(cross_val_score(model_best, x_test, y_test, cv=3))"
   ]
  },
  {
   "cell_type": "code",
   "execution_count": 586,
   "id": "b93c26c7",
   "metadata": {},
   "outputs": [
    {
     "data": {
      "image/png": "[encoded data removed]",
      "text/plain": [
       "<Figure size 1296x1296 with 1 Axes>"
      ]
     },
     "metadata": {
      "needs_background": "light"
     },
     "output_type": "display_data"
    }
   ],
   "source": [
    "plt.figure(figsize=(18,18))\n",
    "tree.plot_tree(model_best, fontsize=7)\n",
    "plt.show()"
   ]
  },
  {
   "cell_type": "markdown",
   "id": "2be91e52",
   "metadata": {},
   "source": [
    "## 4. Vyhodnotenie vplyvu zvolenej stratégie riešenia na klasifikáciu"
   ]
  },
  {
   "cell_type": "markdown",
   "id": "4178a892",
   "metadata": {},
   "source": [
    "Veľký vplyv na presnosť má stratégia riešenia chýbajúcich a vychýlených hodnôt. Najlepšie výsledky sú pri odstránení NAN hodnôt, pri nahradení priemerom, mediánom alebo pomocou KNN imputer boli výsledky horšie. Na druhom mieste po odstranení je stratégia doplnenia chýbajúcich hodnôt mediánom, následne priemerom a ďalšia je KNN imputer."
   ]
  },
  {
   "cell_type": "markdown",
   "id": "aee82849",
   "metadata": {},
   "source": [
    "Najlepšia stratégia zaobchádzania s vychýlenými hodnotami je ich odstránenie, druhý vyskúšaný spôsob nahradenie vychýlených hodnôt hraničnými hodnotami priniesol slabšie výsledky."
   ]
  },
  {
   "cell_type": "code",
   "execution_count": 124,
   "id": "d2c0108e",
   "metadata": {},
   "outputs": [],
   "source": [
    "from sklearn.pipeline import Pipeline\n",
    "from sklearn.impute import KNNImputer\n",
    "from sklearn.impute import SimpleImputer\n",
    "from sklearn.preprocessing import MinMaxScaler \n",
    "from sklearn.preprocessing import RobustScaler\n",
    "from sklearn.preprocessing import PowerTransformer \n",
    "from sklearn.feature_selection import SelectFromModel\n",
    "from sklearn.linear_model import LogisticRegression\n",
    "from sklearn.model_selection import train_test_split"
   ]
  },
  {
   "cell_type": "code",
   "execution_count": 121,
   "id": "f45ae0de",
   "metadata": {},
   "outputs": [
    {
     "data": {
      "text/html": [
       "<div>\n",
       "<style scoped>\n",
       "    .dataframe tbody tr th:only-of-type {\n",
       "        vertical-align: middle;\n",
       "    }\n",
       "\n",
       "    .dataframe tbody tr th {\n",
       "        vertical-align: top;\n",
       "    }\n",
       "\n",
       "    .dataframe thead th {\n",
       "        text-align: right;\n",
       "    }\n",
       "</style>\n",
       "<table border=\"1\" class=\"dataframe\">\n",
       "  <thead>\n",
       "    <tr style=\"text-align: right;\">\n",
       "      <th></th>\n",
       "      <th>hemoglobin</th>\n",
       "      <th>etytr</th>\n",
       "      <th>hbver</th>\n",
       "      <th>smoker</th>\n",
       "      <th>alt</th>\n",
       "      <th>trombocyty</th>\n",
       "      <th>erytrocyty</th>\n",
       "      <th>leukocyty</th>\n",
       "      <th>relationship</th>\n",
       "      <th>indicator</th>\n",
       "      <th>hematokrit</th>\n",
       "      <th>alp</th>\n",
       "      <th>ast</th>\n",
       "      <th>er-cv</th>\n",
       "      <th>blood_group</th>\n",
       "      <th>race</th>\n",
       "      <th>sex</th>\n",
       "      <th>birthdate</th>\n",
       "    </tr>\n",
       "  </thead>\n",
       "  <tbody>\n",
       "    <tr>\n",
       "      <th>0</th>\n",
       "      <td>8.04859</td>\n",
       "      <td>8.33134</td>\n",
       "      <td>6.92033</td>\n",
       "      <td>0</td>\n",
       "      <td>5.32060</td>\n",
       "      <td>9.02598</td>\n",
       "      <td>7.77355</td>\n",
       "      <td>6.19725</td>\n",
       "      <td>1</td>\n",
       "      <td>1.0</td>\n",
       "      <td>8.42675</td>\n",
       "      <td>40.67505</td>\n",
       "      <td>65.03438</td>\n",
       "      <td>57.03521</td>\n",
       "      <td>2</td>\n",
       "      <td>2</td>\n",
       "      <td>0</td>\n",
       "      <td>34593</td>\n",
       "    </tr>\n",
       "    <tr>\n",
       "      <th>1</th>\n",
       "      <td>7.06975</td>\n",
       "      <td>5.87075</td>\n",
       "      <td>7.55645</td>\n",
       "      <td>1</td>\n",
       "      <td>3.00974</td>\n",
       "      <td>8.16432</td>\n",
       "      <td>6.61407</td>\n",
       "      <td>8.12903</td>\n",
       "      <td>3</td>\n",
       "      <td>0.0</td>\n",
       "      <td>5.20481</td>\n",
       "      <td>80.56262</td>\n",
       "      <td>78.69936</td>\n",
       "      <td>49.12368</td>\n",
       "      <td>2</td>\n",
       "      <td>2</td>\n",
       "      <td>0</td>\n",
       "      <td>34593</td>\n",
       "    </tr>\n",
       "    <tr>\n",
       "      <th>2</th>\n",
       "      <td>7.99925</td>\n",
       "      <td>8.50456</td>\n",
       "      <td>8.74478</td>\n",
       "      <td>1</td>\n",
       "      <td>6.86390</td>\n",
       "      <td>7.41719</td>\n",
       "      <td>8.10390</td>\n",
       "      <td>9.39205</td>\n",
       "      <td>3</td>\n",
       "      <td>1.0</td>\n",
       "      <td>8.05943</td>\n",
       "      <td>41.70678</td>\n",
       "      <td>73.50396</td>\n",
       "      <td>23.21061</td>\n",
       "      <td>2</td>\n",
       "      <td>2</td>\n",
       "      <td>0</td>\n",
       "      <td>34593</td>\n",
       "    </tr>\n",
       "    <tr>\n",
       "      <th>3</th>\n",
       "      <td>6.51314</td>\n",
       "      <td>9.25854</td>\n",
       "      <td>9.38356</td>\n",
       "      <td>1</td>\n",
       "      <td>4.11257</td>\n",
       "      <td>7.37351</td>\n",
       "      <td>7.33091</td>\n",
       "      <td>8.58102</td>\n",
       "      <td>1</td>\n",
       "      <td>1.0</td>\n",
       "      <td>8.36402</td>\n",
       "      <td>83.65217</td>\n",
       "      <td>69.74486</td>\n",
       "      <td>59.63760</td>\n",
       "      <td>3</td>\n",
       "      <td>1</td>\n",
       "      <td>1</td>\n",
       "      <td>37513</td>\n",
       "    </tr>\n",
       "    <tr>\n",
       "      <th>4</th>\n",
       "      <td>6.47968</td>\n",
       "      <td>5.81228</td>\n",
       "      <td>10.71625</td>\n",
       "      <td>0</td>\n",
       "      <td>2.88381</td>\n",
       "      <td>6.21111</td>\n",
       "      <td>5.73826</td>\n",
       "      <td>7.38472</td>\n",
       "      <td>5</td>\n",
       "      <td>1.0</td>\n",
       "      <td>9.81301</td>\n",
       "      <td>85.75254</td>\n",
       "      <td>57.14540</td>\n",
       "      <td>52.17063</td>\n",
       "      <td>3</td>\n",
       "      <td>1</td>\n",
       "      <td>1</td>\n",
       "      <td>37513</td>\n",
       "    </tr>\n",
       "  </tbody>\n",
       "</table>\n",
       "</div>"
      ],
      "text/plain": [
       "   hemoglobin    etytr     hbver  smoker      alt  trombocyty  erytrocyty  \\\n",
       "0     8.04859  8.33134   6.92033       0  5.32060     9.02598     7.77355   \n",
       "1     7.06975  5.87075   7.55645       1  3.00974     8.16432     6.61407   \n",
       "2     7.99925  8.50456   8.74478       1  6.86390     7.41719     8.10390   \n",
       "3     6.51314  9.25854   9.38356       1  4.11257     7.37351     7.33091   \n",
       "4     6.47968  5.81228  10.71625       0  2.88381     6.21111     5.73826   \n",
       "\n",
       "   leukocyty  relationship  indicator  hematokrit       alp       ast  \\\n",
       "0    6.19725             1        1.0     8.42675  40.67505  65.03438   \n",
       "1    8.12903             3        0.0     5.20481  80.56262  78.69936   \n",
       "2    9.39205             3        1.0     8.05943  41.70678  73.50396   \n",
       "3    8.58102             1        1.0     8.36402  83.65217  69.74486   \n",
       "4    7.38472             5        1.0     9.81301  85.75254  57.14540   \n",
       "\n",
       "      er-cv  blood_group  race  sex  birthdate  \n",
       "0  57.03521            2     2    0      34593  \n",
       "1  49.12368            2     2    0      34593  \n",
       "2  23.21061            2     2    0      34593  \n",
       "3  59.63760            3     1    1      37513  \n",
       "4  52.17063            3     1    1      37513  "
      ]
     },
     "execution_count": 121,
     "metadata": {},
     "output_type": "execute_result"
    }
   ],
   "source": [
    "filename = \"data.csv\"\n",
    "data = pd.read_csv(filename)\n",
    "data.head()"
   ]
  },
  {
   "cell_type": "markdown",
   "id": "154f60ec",
   "metadata": {},
   "source": [
    "Pomocou funkcie make_model môžeme skúšať výsledky modelov s rôznymi parametrami, feature selection a stratégiami riešenia vychýlených hodnôt a chýbajúcich hodnôt."
   ]
  },
  {
   "cell_type": "code",
   "execution_count": 135,
   "id": "e707fdda",
   "metadata": {},
   "outputs": [],
   "source": [
    "def make_model(pipe, data, imputer):\n",
    "    if imputer=='delete':\n",
    "        data = data.dropna(axis=0)\n",
    "    x = data.drop('indicator', axis=1)\n",
    "    y = data['indicator']\n",
    "    \n",
    "    x_train,x_test,y_train,y_test=train_test_split(x,y,test_size=0.2)\n",
    "    \n",
    "    selector = pipe.fit(x_train, y_train)\n",
    "    selected = pd.DataFrame({\"attribute\":list(x_train.columns), \"selected\": selector.named_steps[\"lr\"].get_support()})\n",
    "    print(selected)\n",
    "    selected = selected[selected[\"selected\"] == True]\n",
    "    new_data_x = selector.transform(x_train)\n",
    "    x_tr = pd.DataFrame(new_data_x, columns = selected['attribute'])\n",
    "    y_tr = y_train.reset_index(drop=True)\n",
    "    x_te = x_test\n",
    "    \n",
    "    if imputer!='delete':\n",
    "        imputer_median = SimpleImputer(missing_values = np.nan, strategy =imputer)\n",
    "        imputer_median = imputer_median.fit(x_test)\n",
    "        x_te = pd.DataFrame(imputer_median.transform(x_test), columns = x_test.columns)\n",
    "\n",
    "    test = pd.DataFrame()\n",
    "    for name in selected['attribute']:\n",
    "        test[name] = x_te[name]\n",
    "    x_te = test\n",
    "    y_te = y_test\n",
    "    \n",
    "    clf3 = DecisionTreeClassifier()\n",
    "    clf3.fit(x_tr, y_tr)\n",
    "    \n",
    "    score, model_best = grid(clf3, x_tr, y_tr)\n",
    "    print(score.nlargest(10,\"mean_test_score\"))\n",
    "    print(cross_val_score(model_best, x_te, y_te, cv=3))\n",
    "    return model_best\n",
    "    "
   ]
  },
  {
   "cell_type": "markdown",
   "id": "1be77016",
   "metadata": {},
   "source": [
    "Nahradenie chýbajúcich hodnôt medianom, MinMaxScaler, SelectFromModel(estimator=LogisticRegression() bez ošetrenia vychýlených hodnôt."
   ]
  },
  {
   "cell_type": "code",
   "execution_count": 134,
   "id": "d43d3789",
   "metadata": {},
   "outputs": [
    {
     "name": "stdout",
     "output_type": "stream",
     "text": [
      "       attribute  selected\n",
      "0     hemoglobin     False\n",
      "1          etytr      True\n",
      "2          hbver      True\n",
      "3         smoker     False\n",
      "4            alt     False\n",
      "5     trombocyty     False\n",
      "6     erytrocyty     False\n",
      "7      leukocyty      True\n",
      "8   relationship     False\n",
      "9     hematokrit      True\n",
      "10           alp     False\n",
      "11           ast     False\n",
      "12         er-cv     False\n",
      "13   blood_group     False\n",
      "14          race     False\n",
      "15           sex     False\n",
      "16     birthdate     False\n",
      "Fitting 5 folds for each of 3360 candidates, totalling 16800 fits\n",
      "      mean_fit_time  std_fit_time  mean_score_time  std_score_time  \\\n",
      "3016       0.108327      0.009081         0.002992    4.422006e-07   \n",
      "3002       0.106157      0.006437         0.002793    2.393707e-03   \n",
      "3010       0.098137      0.003129         0.002992    4.422006e-07   \n",
      "3018       0.126295      0.024911         0.002593    1.353007e-03   \n",
      "3026       0.105718      0.012260         0.003391    3.313859e-03   \n",
      "3034       0.109287      0.007858         0.002014    3.109559e-03   \n",
      "3242       0.118480      0.021123         0.004190    1.165887e-03   \n",
      "3250       0.112279      0.010304         0.003403    1.013098e-03   \n",
      "3258       0.119991      0.024082         0.002220    3.163620e-03   \n",
      "3266       0.101391      0.013366         0.002415    2.951309e-03   \n",
      "\n",
      "     param_criterion param_max_depth param_min_samples_leaf  \\\n",
      "3016         entropy              25                     10   \n",
      "3002         entropy              25                     10   \n",
      "3010         entropy              25                     10   \n",
      "3018         entropy              25                     10   \n",
      "3026         entropy              25                     10   \n",
      "3034         entropy              25                     10   \n",
      "3242         entropy              35                     10   \n",
      "3250         entropy              35                     10   \n",
      "3258         entropy              35                     10   \n",
      "3266         entropy              35                     10   \n",
      "\n",
      "     param_min_samples_split param_random_state  \\\n",
      "3016                       5               None   \n",
      "3002                       2                  2   \n",
      "3010                       3                  2   \n",
      "3018                       5                  2   \n",
      "3026                      10                  2   \n",
      "3034                      20                  2   \n",
      "3242                       2                  2   \n",
      "3250                       3                  2   \n",
      "3258                       5                  2   \n",
      "3266                      10                  2   \n",
      "\n",
      "                                                 params  split0_test_score  \\\n",
      "3016  {'criterion': 'entropy', 'max_depth': 25, 'min...            0.87375   \n",
      "3002  {'criterion': 'entropy', 'max_depth': 25, 'min...            0.87375   \n",
      "3010  {'criterion': 'entropy', 'max_depth': 25, 'min...            0.87375   \n",
      "3018  {'criterion': 'entropy', 'max_depth': 25, 'min...            0.87375   \n",
      "3026  {'criterion': 'entropy', 'max_depth': 25, 'min...            0.87375   \n",
      "3034  {'criterion': 'entropy', 'max_depth': 25, 'min...            0.87375   \n",
      "3242  {'criterion': 'entropy', 'max_depth': 35, 'min...            0.87375   \n",
      "3250  {'criterion': 'entropy', 'max_depth': 35, 'min...            0.87375   \n",
      "3258  {'criterion': 'entropy', 'max_depth': 35, 'min...            0.87375   \n",
      "3266  {'criterion': 'entropy', 'max_depth': 35, 'min...            0.87375   \n",
      "\n",
      "      split1_test_score  split2_test_score  split3_test_score  \\\n",
      "3016           0.890625           0.896875           0.886875   \n",
      "3002           0.890000           0.896875           0.885625   \n",
      "3010           0.890000           0.896875           0.885625   \n",
      "3018           0.890000           0.896875           0.885625   \n",
      "3026           0.890000           0.896875           0.885625   \n",
      "3034           0.890000           0.896875           0.885625   \n",
      "3242           0.890000           0.896875           0.885625   \n",
      "3250           0.890000           0.896875           0.885625   \n",
      "3258           0.890000           0.896875           0.885625   \n",
      "3266           0.890000           0.896875           0.885625   \n",
      "\n",
      "      split4_test_score  mean_test_score  std_test_score  rank_test_score  \n",
      "3016            0.89250         0.888125        0.007876                1  \n",
      "3002            0.89375         0.888000        0.008056                2  \n",
      "3010            0.89375         0.888000        0.008056                2  \n",
      "3018            0.89375         0.888000        0.008056                2  \n",
      "3026            0.89375         0.888000        0.008056                2  \n",
      "3034            0.89375         0.888000        0.008056                2  \n",
      "3242            0.89375         0.888000        0.008056                2  \n",
      "3250            0.89375         0.888000        0.008056                2  \n",
      "3258            0.89375         0.888000        0.008056                2  \n",
      "3266            0.89375         0.888000        0.008056                2  \n",
      "[0.8035982  0.85157421 0.84834835]\n"
     ]
    },
    {
     "data": {
      "text/plain": [
       "DecisionTreeClassifier(criterion='entropy', max_depth=25, min_samples_leaf=10,\n",
       "                       min_samples_split=5)"
      ]
     },
     "execution_count": 134,
     "metadata": {},
     "output_type": "execute_result"
    }
   ],
   "source": [
    "make_model(Pipeline([('sm', SimpleImputer(missing_values = np.nan, strategy ='median')), ('mm', MinMaxScaler()), ('lr', SelectFromModel(estimator=LogisticRegression()))]), data, 'median')"
   ]
  },
  {
   "cell_type": "markdown",
   "id": "407c4cf3",
   "metadata": {},
   "source": [
    "Odstránenie chýbajúcich hodnôt, MinMaxScaler, SelectFromModel(estimator=LogisticRegression() bez ošetrenia vychýlených hodnôt."
   ]
  },
  {
   "cell_type": "code",
   "execution_count": 543,
   "id": "4edb53d4",
   "metadata": {},
   "outputs": [
    {
     "name": "stdout",
     "output_type": "stream",
     "text": [
      "       attribute  selected\n",
      "0     hemoglobin     False\n",
      "1          etytr      True\n",
      "2          hbver      True\n",
      "3         smoker     False\n",
      "4            alt     False\n",
      "5     trombocyty     False\n",
      "6     erytrocyty     False\n",
      "7      leukocyty      True\n",
      "8   relationship     False\n",
      "9     hematokrit      True\n",
      "10           alp     False\n",
      "11           ast     False\n",
      "12         er-cv     False\n",
      "13   blood_group     False\n",
      "14          race     False\n",
      "15           sex     False\n",
      "16     birthdate     False\n",
      "Fitting 5 folds for each of 3360 candidates, totalling 16800 fits\n",
      "      mean_fit_time  std_fit_time  mean_score_time  std_score_time  \\\n",
      "1025       0.034978      0.004310         0.003208        0.003929   \n",
      "1029       0.042233      0.004117         0.000000        0.000000   \n",
      "1031       0.040222      0.000073         0.000000        0.000000   \n",
      "1028       0.036623      0.003209         0.000399        0.000798   \n",
      "1026       0.039014      0.000956         0.001207        0.000986   \n",
      "1027       0.034960      0.003948         0.004424        0.002952   \n",
      "1041       0.036618      0.004525         0.001605        0.003210   \n",
      "1049       0.036572      0.004459         0.001603        0.003207   \n",
      "1057       0.039797      0.000802         0.000406        0.000812   \n",
      "1065       0.036539      0.003676         0.002014        0.003123   \n",
      "\n",
      "     param_criterion param_max_depth param_min_samples_leaf  \\\n",
      "1025            gini              10                      3   \n",
      "1029            gini              10                      3   \n",
      "1031            gini              10                      3   \n",
      "1028            gini              10                      3   \n",
      "1026            gini              10                      3   \n",
      "1027            gini              10                      3   \n",
      "1041            gini              10                      5   \n",
      "1049            gini              10                      5   \n",
      "1057            gini              10                      5   \n",
      "1065            gini              10                      5   \n",
      "\n",
      "     param_min_samples_split param_random_state  \\\n",
      "1025                      10                  1   \n",
      "1029                      10                 20   \n",
      "1031                      10                 50   \n",
      "1028                      10                 10   \n",
      "1026                      10                  2   \n",
      "1027                      10                  5   \n",
      "1041                       2                  1   \n",
      "1049                       3                  1   \n",
      "1057                       5                  1   \n",
      "1065                      10                  1   \n",
      "\n",
      "                                                 params  split0_test_score  \\\n",
      "1025  {'criterion': 'gini', 'max_depth': 10, 'min_sa...           0.890181   \n",
      "1029  {'criterion': 'gini', 'max_depth': 10, 'min_sa...           0.890181   \n",
      "1031  {'criterion': 'gini', 'max_depth': 10, 'min_sa...           0.889535   \n",
      "1028  {'criterion': 'gini', 'max_depth': 10, 'min_sa...           0.890827   \n",
      "1026  {'criterion': 'gini', 'max_depth': 10, 'min_sa...           0.889535   \n",
      "1027  {'criterion': 'gini', 'max_depth': 10, 'min_sa...           0.890181   \n",
      "1041  {'criterion': 'gini', 'max_depth': 10, 'min_sa...           0.887597   \n",
      "1049  {'criterion': 'gini', 'max_depth': 10, 'min_sa...           0.887597   \n",
      "1057  {'criterion': 'gini', 'max_depth': 10, 'min_sa...           0.887597   \n",
      "1065  {'criterion': 'gini', 'max_depth': 10, 'min_sa...           0.887597   \n",
      "\n",
      "      split1_test_score  split2_test_score  split3_test_score  \\\n",
      "1025           0.898579           0.887597           0.902392   \n",
      "1029           0.898579           0.886951           0.902392   \n",
      "1031           0.898579           0.887597           0.901099   \n",
      "1028           0.898579           0.887597           0.897867   \n",
      "1026           0.898579           0.887597           0.897867   \n",
      "1027           0.898579           0.886951           0.899160   \n",
      "1041           0.889535           0.887597           0.909502   \n",
      "1049           0.889535           0.887597           0.909502   \n",
      "1057           0.889535           0.887597           0.909502   \n",
      "1065           0.889535           0.887597           0.909502   \n",
      "\n",
      "      split4_test_score  mean_test_score  std_test_score  rank_test_score  \n",
      "1025           0.882353         0.892220        0.007305                1  \n",
      "1029           0.882353         0.892091        0.007390                2  \n",
      "1031           0.882353         0.891832        0.006992                3  \n",
      "1028           0.882353         0.891444        0.006164                4  \n",
      "1026           0.882353         0.891186        0.006212                5  \n",
      "1027           0.879767         0.890928        0.007311                6  \n",
      "1041           0.879767         0.890800        0.009936                7  \n",
      "1049           0.879767         0.890800        0.009936                7  \n",
      "1057           0.879767         0.890800        0.009936                7  \n",
      "1065           0.879767         0.890800        0.009936                7  \n",
      "[0.83875969 0.87906977 0.86046512]\n"
     ]
    },
    {
     "data": {
      "text/plain": [
       "DecisionTreeClassifier(max_depth=10, min_samples_leaf=3, min_samples_split=10,\n",
       "                       random_state=1)"
      ]
     },
     "execution_count": 543,
     "metadata": {},
     "output_type": "execute_result"
    }
   ],
   "source": [
    "make_model(Pipeline([('mm', MinMaxScaler()), ('lr', SelectFromModel(estimator=LogisticRegression()))]), data, 'delete')"
   ]
  },
  {
   "cell_type": "code",
   "execution_count": 138,
   "id": "ae344565",
   "metadata": {},
   "outputs": [
    {
     "name": "stdout",
     "output_type": "stream",
     "text": [
      "Počet vychýlených hodnôt: 412, počet záznamov po odstránení vychýlených hodnôt: 9588.\n"
     ]
    }
   ],
   "source": [
    "# outliers detection\n",
    "mean, std = np.mean(data), np.std(data)\n",
    "out_range = 3 * std\n",
    "lower, upper = mean - out_range, mean + out_range\n",
    "\n",
    "outliers = []\n",
    "data_out = []\n",
    "data_border = []\n",
    "\n",
    "\n",
    "def manage(row):\n",
    "    for i in range(len(row)):\n",
    "        if row[i] < lower.values[i]:\n",
    "            row[i] = lower.values[i]\n",
    "        elif  row[i] > upper.values[i]:\n",
    "            row[i] = upper.values[i]\n",
    "    return row\n",
    "\n",
    "def outOutliers(data):\n",
    "    for row in data.values:\n",
    "        for i in range(len(row)):\n",
    "            if row[i] < lower.values[i] or row[i] > upper.values[i]:\n",
    "                outliers.append(row)\n",
    "                data_border.append(manage(row))\n",
    "                break\n",
    "            else:\n",
    "                if i == len(row) - 1:\n",
    "                    data_out.append(row)\n",
    "                    data_border.append(row)\n",
    "\n",
    "outOutliers(data)\n",
    "outliers = pd.DataFrame(outliers, columns = data.columns)\n",
    "data_out = pd.DataFrame(data_out, columns = data.columns)\n",
    "data_border = pd.DataFrame(data_border, columns = data.columns)\n",
    "print(f'Počet vychýlených hodnôt: {outliers.shape[0]}, počet záznamov po odstránení vychýlených hodnôt: {data_out.shape[0]}.')"
   ]
  },
  {
   "cell_type": "markdown",
   "id": "6f4c060f",
   "metadata": {},
   "source": [
    "Odstránenie chýbajúcich hodnôt, MinMaxScaler, SelectFromModel(estimator=LogisticRegression(), odstránenie vychýlených hodnôt."
   ]
  },
  {
   "cell_type": "code",
   "execution_count": 545,
   "id": "494f14ed",
   "metadata": {},
   "outputs": [
    {
     "name": "stdout",
     "output_type": "stream",
     "text": [
      "       attribute  selected\n",
      "0     hemoglobin     False\n",
      "1          etytr      True\n",
      "2          hbver      True\n",
      "3         smoker     False\n",
      "4            alt     False\n",
      "5     trombocyty     False\n",
      "6     erytrocyty     False\n",
      "7      leukocyty      True\n",
      "8   relationship     False\n",
      "9     hematokrit      True\n",
      "10           alp     False\n",
      "11           ast     False\n",
      "12         er-cv     False\n",
      "13   blood_group     False\n",
      "14          race     False\n",
      "15           sex     False\n",
      "16     birthdate     False\n",
      "Fitting 5 folds for each of 3360 candidates, totalling 16800 fits\n",
      "      mean_fit_time  std_fit_time  mean_score_time  std_score_time  \\\n",
      "1024       0.032827      0.005478         0.004421    3.908637e-03   \n",
      "1031       0.034839      0.001997         0.003268    2.378424e-03   \n",
      "1026       0.041095      0.004739         0.002398    7.962146e-04   \n",
      "1027       0.035231      0.003648         0.003407    2.358782e-03   \n",
      "1025       0.039948      0.006911         0.001995    1.092580e-03   \n",
      "1008       0.036303      0.001018         0.002593    7.984043e-04   \n",
      "1030       0.040454      0.006108         0.001974    4.105748e-05   \n",
      "1001       0.040492      0.003919         0.001994    5.352484e-07   \n",
      "1009       0.036636      0.003820         0.001602    8.012709e-04   \n",
      "1017       0.040628      0.008273         0.001932    1.041513e-03   \n",
      "\n",
      "     param_criterion param_max_depth param_min_samples_leaf  \\\n",
      "1024            gini              10                      3   \n",
      "1031            gini              10                      3   \n",
      "1026            gini              10                      3   \n",
      "1027            gini              10                      3   \n",
      "1025            gini              10                      3   \n",
      "1008            gini              10                      3   \n",
      "1030            gini              10                      3   \n",
      "1001            gini              10                      3   \n",
      "1009            gini              10                      3   \n",
      "1017            gini              10                      3   \n",
      "\n",
      "     param_min_samples_split param_random_state  \\\n",
      "1024                      10               None   \n",
      "1031                      10                 50   \n",
      "1026                      10                  2   \n",
      "1027                      10                  5   \n",
      "1025                      10                  1   \n",
      "1008                       3               None   \n",
      "1030                      10                 40   \n",
      "1001                       2                  1   \n",
      "1009                       3                  1   \n",
      "1017                       5                  1   \n",
      "\n",
      "                                                 params  split0_test_score  \\\n",
      "1024  {'criterion': 'gini', 'max_depth': 10, 'min_sa...           0.899596   \n",
      "1031  {'criterion': 'gini', 'max_depth': 10, 'min_sa...           0.899596   \n",
      "1026  {'criterion': 'gini', 'max_depth': 10, 'min_sa...           0.898248   \n",
      "1027  {'criterion': 'gini', 'max_depth': 10, 'min_sa...           0.899596   \n",
      "1025  {'criterion': 'gini', 'max_depth': 10, 'min_sa...           0.899596   \n",
      "1008  {'criterion': 'gini', 'max_depth': 10, 'min_sa...           0.900270   \n",
      "1030  {'criterion': 'gini', 'max_depth': 10, 'min_sa...           0.899596   \n",
      "1001  {'criterion': 'gini', 'max_depth': 10, 'min_sa...           0.900943   \n",
      "1009  {'criterion': 'gini', 'max_depth': 10, 'min_sa...           0.900943   \n",
      "1017  {'criterion': 'gini', 'max_depth': 10, 'min_sa...           0.900943   \n",
      "\n",
      "      split1_test_score  split2_test_score  split3_test_score  \\\n",
      "1024           0.902900           0.895482           0.879299   \n",
      "1031           0.903574           0.894134           0.879299   \n",
      "1026           0.903574           0.894134           0.878624   \n",
      "1027           0.902900           0.894134           0.878624   \n",
      "1025           0.902900           0.895482           0.879299   \n",
      "1008           0.904922           0.894134           0.876601   \n",
      "1030           0.903574           0.892785           0.879973   \n",
      "1001           0.905597           0.892111           0.875927   \n",
      "1009           0.905597           0.892111           0.875927   \n",
      "1017           0.905597           0.892111           0.875927   \n",
      "\n",
      "      split4_test_score  mean_test_score  std_test_score  rank_test_score  \n",
      "1024           0.904248         0.896305        0.009026                1  \n",
      "1031           0.903574         0.896035        0.009056                2  \n",
      "1026           0.903574         0.895631        0.009214                3  \n",
      "1027           0.902900         0.895631        0.009087                4  \n",
      "1025           0.900877         0.895631        0.008519                5  \n",
      "1008           0.901551         0.895496        0.010071                6  \n",
      "1030           0.900877         0.895361        0.008476                7  \n",
      "1001           0.902225         0.895361        0.010689                8  \n",
      "1009           0.902225         0.895361        0.010689                8  \n",
      "1017           0.902225         0.895361        0.010689                8  \n",
      "[0.84168013 0.85275081 0.82038835]\n"
     ]
    },
    {
     "data": {
      "text/plain": [
       "DecisionTreeClassifier(max_depth=10, min_samples_leaf=3, min_samples_split=10)"
      ]
     },
     "execution_count": 545,
     "metadata": {},
     "output_type": "execute_result"
    }
   ],
   "source": [
    "make_model(Pipeline([('mm', MinMaxScaler()), ('lr', SelectFromModel(estimator=LogisticRegression()))]), data_out, 'delete')"
   ]
  },
  {
   "cell_type": "markdown",
   "id": "3cfea266",
   "metadata": {},
   "source": [
    "Chýbajúce hodnoty nahradené priemerom, MinMaxScaler, SelectFromModel(estimator=LogisticRegression(), odstránenie vychýlených hodnôt."
   ]
  },
  {
   "cell_type": "code",
   "execution_count": 546,
   "id": "e1c247a6",
   "metadata": {},
   "outputs": [
    {
     "name": "stdout",
     "output_type": "stream",
     "text": [
      "       attribute  selected\n",
      "0     hemoglobin     False\n",
      "1          etytr      True\n",
      "2          hbver      True\n",
      "3         smoker     False\n",
      "4            alt     False\n",
      "5     trombocyty     False\n",
      "6     erytrocyty     False\n",
      "7      leukocyty      True\n",
      "8   relationship     False\n",
      "9     hematokrit      True\n",
      "10           alp     False\n",
      "11           ast     False\n",
      "12         er-cv     False\n",
      "13   blood_group     False\n",
      "14          race     False\n",
      "15           sex     False\n",
      "16     birthdate     False\n",
      "Fitting 5 folds for each of 3360 candidates, totalling 16800 fits\n",
      "      mean_fit_time  std_fit_time  mean_score_time  std_score_time  \\\n",
      "1074       0.036580      0.003685         0.002013        0.003117   \n",
      "1072       0.034937      0.004331         0.003218        0.003941   \n",
      "1073       0.037093      0.003670         0.002410        0.002956   \n",
      "1075       0.037508      0.007945         0.006212        0.003495   \n",
      "1077       0.038876      0.003652         0.000599        0.001197   \n",
      "1078       0.037528      0.006231         0.002018        0.003129   \n",
      "1079       0.037780      0.004109         0.002417        0.002961   \n",
      "1064       0.034184      0.004209         0.003606        0.003670   \n",
      "1076       0.036967      0.003504         0.002832        0.002759   \n",
      "1316       0.046276      0.002326         0.002194        0.000399   \n",
      "\n",
      "     param_criterion param_max_depth param_min_samples_leaf  \\\n",
      "1074            gini              10                      5   \n",
      "1072            gini              10                      5   \n",
      "1073            gini              10                      5   \n",
      "1075            gini              10                      5   \n",
      "1077            gini              10                      5   \n",
      "1078            gini              10                      5   \n",
      "1079            gini              10                      5   \n",
      "1064            gini              10                      5   \n",
      "1076            gini              10                      5   \n",
      "1316            gini              25                      5   \n",
      "\n",
      "     param_min_samples_split param_random_state  \\\n",
      "1074                      20                  2   \n",
      "1072                      20               None   \n",
      "1073                      20                  1   \n",
      "1075                      20                  5   \n",
      "1077                      20                 20   \n",
      "1078                      20                 40   \n",
      "1079                      20                 50   \n",
      "1064                      10               None   \n",
      "1076                      20                 10   \n",
      "1316                      20                 10   \n",
      "\n",
      "                                                 params  split0_test_score  \\\n",
      "1074  {'criterion': 'gini', 'max_depth': 10, 'min_sa...           0.876793   \n",
      "1072  {'criterion': 'gini', 'max_depth': 10, 'min_sa...           0.875489   \n",
      "1073  {'criterion': 'gini', 'max_depth': 10, 'min_sa...           0.875489   \n",
      "1075  {'criterion': 'gini', 'max_depth': 10, 'min_sa...           0.875489   \n",
      "1077  {'criterion': 'gini', 'max_depth': 10, 'min_sa...           0.876793   \n",
      "1078  {'criterion': 'gini', 'max_depth': 10, 'min_sa...           0.876793   \n",
      "1079  {'criterion': 'gini', 'max_depth': 10, 'min_sa...           0.876793   \n",
      "1064  {'criterion': 'gini', 'max_depth': 10, 'min_sa...           0.882660   \n",
      "1076  {'criterion': 'gini', 'max_depth': 10, 'min_sa...           0.875489   \n",
      "1316  {'criterion': 'gini', 'max_depth': 25, 'min_sa...           0.881356   \n",
      "\n",
      "      split1_test_score  split2_test_score  split3_test_score  \\\n",
      "1074           0.893090           0.902216           0.878748   \n",
      "1072           0.893090           0.902216           0.878748   \n",
      "1073           0.893090           0.902216           0.878748   \n",
      "1075           0.893090           0.902216           0.878748   \n",
      "1077           0.891786           0.902216           0.878748   \n",
      "1078           0.891786           0.902216           0.878748   \n",
      "1079           0.891786           0.902216           0.878748   \n",
      "1064           0.891134           0.895046           0.880704   \n",
      "1076           0.891786           0.900261           0.878748   \n",
      "1316           0.897653           0.895698           0.881356   \n",
      "\n",
      "      split4_test_score  mean_test_score  std_test_score  rank_test_score  \n",
      "1074           0.894394         0.889048        0.009743                1  \n",
      "1072           0.894394         0.888787        0.010079                2  \n",
      "1073           0.894394         0.888787        0.010079                2  \n",
      "1075           0.894394         0.888787        0.010079                2  \n",
      "1077           0.894394         0.888787        0.009648                2  \n",
      "1078           0.894394         0.888787        0.009648                2  \n",
      "1079           0.894394         0.888787        0.009648                2  \n",
      "1064           0.891134         0.888136        0.005494                8  \n",
      "1076           0.894394         0.888136        0.009461                8  \n",
      "1316           0.884615         0.888136        0.007101                8  \n",
      "[0.8421875  0.84820031 0.84976526]\n"
     ]
    },
    {
     "data": {
      "text/plain": [
       "DecisionTreeClassifier(max_depth=10, min_samples_leaf=5, min_samples_split=20,\n",
       "                       random_state=2)"
      ]
     },
     "execution_count": 546,
     "metadata": {},
     "output_type": "execute_result"
    }
   ],
   "source": [
    "make_model(Pipeline([('sm', SimpleImputer(missing_values = np.nan, strategy ='mean')), ('mm', MinMaxScaler()), ('lr', SelectFromModel(estimator=LogisticRegression()))]), data_out, 'mean')"
   ]
  },
  {
   "cell_type": "markdown",
   "id": "c106ff85",
   "metadata": {},
   "source": [
    "Chýbajúce hodnoty odstránené, MinMaxScaler, SelectFromModel(estimator=LogisticRegression(), nahradenie vychýlených hodnôt hraničnými."
   ]
  },
  {
   "cell_type": "code",
   "execution_count": 139,
   "id": "09f84a01",
   "metadata": {},
   "outputs": [
    {
     "name": "stdout",
     "output_type": "stream",
     "text": [
      "       attribute  selected\n",
      "0     hemoglobin     False\n",
      "1          etytr      True\n",
      "2          hbver      True\n",
      "3         smoker     False\n",
      "4            alt     False\n",
      "5     trombocyty     False\n",
      "6     erytrocyty     False\n",
      "7      leukocyty      True\n",
      "8   relationship     False\n",
      "9     hematokrit      True\n",
      "10           alp     False\n",
      "11           ast     False\n",
      "12         er-cv     False\n",
      "13   blood_group     False\n",
      "14          race     False\n",
      "15           sex     False\n",
      "16     birthdate     False\n",
      "Fitting 5 folds for each of 3360 candidates, totalling 16800 fits\n",
      "      mean_fit_time  std_fit_time  mean_score_time  std_score_time  \\\n",
      "1078       0.039042      0.005297         0.004388        0.006841   \n",
      "1075       0.035049      0.001779         0.002202        0.000394   \n",
      "1072       0.040789      0.011724         0.002394        0.000798   \n",
      "1074       0.033648      0.004990         0.003402        0.002810   \n",
      "1079       0.037003      0.000541         0.002198        0.000397   \n",
      "1076       0.035014      0.001214         0.001596        0.000798   \n",
      "1073       0.035164      0.002538         0.001597        0.000798   \n",
      "1077       0.033587      0.001700         0.001596        0.000798   \n",
      "1104       0.032310      0.003278         0.004031        0.004232   \n",
      "1083       0.034658      0.003035         0.001801        0.000979   \n",
      "\n",
      "     param_criterion param_max_depth param_min_samples_leaf  \\\n",
      "1078            gini              10                      5   \n",
      "1075            gini              10                      5   \n",
      "1072            gini              10                      5   \n",
      "1074            gini              10                      5   \n",
      "1079            gini              10                      5   \n",
      "1076            gini              10                      5   \n",
      "1073            gini              10                      5   \n",
      "1077            gini              10                      5   \n",
      "1104            gini              10                     10   \n",
      "1083            gini              10                     10   \n",
      "\n",
      "     param_min_samples_split param_random_state  \\\n",
      "1078                      20                 40   \n",
      "1075                      20                  5   \n",
      "1072                      20               None   \n",
      "1074                      20                  2   \n",
      "1079                      20                 50   \n",
      "1076                      20                 10   \n",
      "1073                      20                  1   \n",
      "1077                      20                 20   \n",
      "1104                      10               None   \n",
      "1083                       2                  5   \n",
      "\n",
      "                                                 params  split0_test_score  \\\n",
      "1078  {'criterion': 'gini', 'max_depth': 10, 'min_sa...           0.878553   \n",
      "1075  {'criterion': 'gini', 'max_depth': 10, 'min_sa...           0.878553   \n",
      "1072  {'criterion': 'gini', 'max_depth': 10, 'min_sa...           0.878553   \n",
      "1074  {'criterion': 'gini', 'max_depth': 10, 'min_sa...           0.878553   \n",
      "1079  {'criterion': 'gini', 'max_depth': 10, 'min_sa...           0.878553   \n",
      "1076  {'criterion': 'gini', 'max_depth': 10, 'min_sa...           0.878553   \n",
      "1073  {'criterion': 'gini', 'max_depth': 10, 'min_sa...           0.878553   \n",
      "1077  {'criterion': 'gini', 'max_depth': 10, 'min_sa...           0.878553   \n",
      "1104  {'criterion': 'gini', 'max_depth': 10, 'min_sa...           0.872093   \n",
      "1083  {'criterion': 'gini', 'max_depth': 10, 'min_sa...           0.872093   \n",
      "\n",
      "      split1_test_score  split2_test_score  split3_test_score  \\\n",
      "1078           0.889535           0.897287           0.900452   \n",
      "1075           0.890181           0.897287           0.900452   \n",
      "1072           0.888243           0.897287           0.900452   \n",
      "1074           0.890827           0.897287           0.900452   \n",
      "1079           0.886951           0.897287           0.900452   \n",
      "1076           0.888243           0.897287           0.900452   \n",
      "1073           0.887597           0.897287           0.902392   \n",
      "1077           0.890827           0.897287           0.900452   \n",
      "1104           0.890827           0.896641           0.896574   \n",
      "1083           0.891473           0.896641           0.899160   \n",
      "\n",
      "      split4_test_score  mean_test_score  std_test_score  rank_test_score  \n",
      "1078           0.897867         0.892739        0.007975                1  \n",
      "1075           0.896574         0.892609        0.007779                2  \n",
      "1072           0.897867         0.892480        0.008094                3  \n",
      "1074           0.895281         0.892480        0.007632                4  \n",
      "1079           0.897867         0.892222        0.008245                5  \n",
      "1076           0.896574         0.892222        0.007937                6  \n",
      "1073           0.893988         0.891963        0.008247                7  \n",
      "1077           0.892696         0.891963        0.007511                8  \n",
      "1104           0.901099         0.891447        0.010212                9  \n",
      "1083           0.897220         0.891317        0.009943               10  \n",
      "[0.82790698 0.84651163 0.84186047]\n",
      "Train Accuracy : 0.3121658625635676\n",
      "Train Precision 0.3959424083769634\n",
      "Train Recall 0.12204962679039742\n",
      "Test Accuracy : 0.3159541188738269\n",
      "Test Precision 0.3829787234042553\n",
      "Test Recall 0.11764705882352941\n"
     ]
    }
   ],
   "source": [
    "make_model(Pipeline([('mm', MinMaxScaler()), ('lr', SelectFromModel(estimator=LogisticRegression()))]), data_border, 'delete')"
   ]
  },
  {
   "cell_type": "markdown",
   "id": "9b1d1fff",
   "metadata": {},
   "source": [
    "Chýbajúce hodnoty odstránené, MinMaxScaler, PowerTransformer(method='yeo-johnson'), SelectFromModel(estimator=LogisticRegression(), odstránenie vychýlených hodnôt."
   ]
  },
  {
   "cell_type": "code",
   "execution_count": 575,
   "id": "bc7be64e",
   "metadata": {},
   "outputs": [
    {
     "name": "stdout",
     "output_type": "stream",
     "text": [
      "       attribute  selected\n",
      "0     hemoglobin     False\n",
      "1          etytr      True\n",
      "2          hbver      True\n",
      "3         smoker     False\n",
      "4            alt     False\n",
      "5     trombocyty     False\n",
      "6     erytrocyty     False\n",
      "7      leukocyty      True\n",
      "8   relationship     False\n",
      "9     hematokrit      True\n",
      "10           alp     False\n",
      "11           ast     False\n",
      "12         er-cv     False\n",
      "13   blood_group     False\n",
      "14          race     False\n",
      "15           sex     False\n",
      "16     birthdate     False\n",
      "Fitting 5 folds for each of 3360 candidates, totalling 16800 fits\n",
      "      mean_fit_time  std_fit_time  mean_score_time  std_score_time  \\\n",
      "2707       0.058609      0.000958         0.001997        0.000006   \n",
      "2705       0.062699      0.006121         0.001399        0.001198   \n",
      "2708       0.059478      0.002478         0.000765        0.001159   \n",
      "2710       0.062460      0.007174         0.000801        0.000981   \n",
      "2711       0.059326      0.003633         0.000760        0.000932   \n",
      "2704       0.067504      0.009336         0.000801        0.000981   \n",
      "2709       0.058641      0.006222         0.002786        0.003739   \n",
      "2706       0.061184      0.006322         0.004003        0.003354   \n",
      "2724       0.059976      0.003176         0.002000        0.000007   \n",
      "2732       0.058818      0.002055         0.000403        0.000806   \n",
      "\n",
      "     param_criterion param_max_depth param_min_samples_leaf  \\\n",
      "2707         entropy              10                      3   \n",
      "2705         entropy              10                      3   \n",
      "2708         entropy              10                      3   \n",
      "2710         entropy              10                      3   \n",
      "2711         entropy              10                      3   \n",
      "2704         entropy              10                      3   \n",
      "2709         entropy              10                      3   \n",
      "2706         entropy              10                      3   \n",
      "2724         entropy              10                      5   \n",
      "2732         entropy              10                      5   \n",
      "\n",
      "     param_min_samples_split param_random_state  \\\n",
      "2707                      10                  5   \n",
      "2705                      10                  1   \n",
      "2708                      10                 10   \n",
      "2710                      10                 40   \n",
      "2711                      10                 50   \n",
      "2704                      10               None   \n",
      "2709                      10                 20   \n",
      "2706                      10                  2   \n",
      "2724                       2                 10   \n",
      "2732                       3                 10   \n",
      "\n",
      "                                                 params  split0_test_score  \\\n",
      "2707  {'criterion': 'entropy', 'max_depth': 10, 'min...           0.885445   \n",
      "2705  {'criterion': 'entropy', 'max_depth': 10, 'min...           0.885445   \n",
      "2708  {'criterion': 'entropy', 'max_depth': 10, 'min...           0.885445   \n",
      "2710  {'criterion': 'entropy', 'max_depth': 10, 'min...           0.885445   \n",
      "2711  {'criterion': 'entropy', 'max_depth': 10, 'min...           0.885445   \n",
      "2704  {'criterion': 'entropy', 'max_depth': 10, 'min...           0.885445   \n",
      "2709  {'criterion': 'entropy', 'max_depth': 10, 'min...           0.884771   \n",
      "2706  {'criterion': 'entropy', 'max_depth': 10, 'min...           0.885445   \n",
      "2724  {'criterion': 'entropy', 'max_depth': 10, 'min...           0.885445   \n",
      "2732  {'criterion': 'entropy', 'max_depth': 10, 'min...           0.885445   \n",
      "\n",
      "      split1_test_score  split2_test_score  split3_test_score  \\\n",
      "2707           0.883345           0.893459           0.907620   \n",
      "2705           0.882670           0.892785           0.907620   \n",
      "2708           0.882670           0.893459           0.907620   \n",
      "2710           0.881996           0.892785           0.907620   \n",
      "2711           0.882670           0.893459           0.907620   \n",
      "2704           0.882670           0.892785           0.906945   \n",
      "2709           0.882670           0.893459           0.907620   \n",
      "2706           0.881996           0.893459           0.906945   \n",
      "2724           0.886042           0.890762           0.901551   \n",
      "2732           0.886042           0.890762           0.901551   \n",
      "\n",
      "      split4_test_score  mean_test_score  std_test_score  rank_test_score  \n",
      "2707           0.870533         0.888080        0.012231                1  \n",
      "2705           0.870533         0.887810        0.012229                2  \n",
      "2708           0.869858         0.887810        0.012479                2  \n",
      "2710           0.871207         0.887810        0.012101                2  \n",
      "2711           0.869858         0.887810        0.012479                2  \n",
      "2704           0.870533         0.887676        0.012011                6  \n",
      "2709           0.869184         0.887541        0.012701                7  \n",
      "2706           0.869858         0.887541        0.012324                8  \n",
      "2724           0.873230         0.887406        0.009143                9  \n",
      "2732           0.873230         0.887406        0.009143                9  \n",
      "[0.86106624 0.83495146 0.83495146]\n"
     ]
    },
    {
     "data": {
      "text/plain": [
       "DecisionTreeClassifier(criterion='entropy', max_depth=10, min_samples_leaf=3,\n",
       "                       min_samples_split=10, random_state=5)"
      ]
     },
     "execution_count": 575,
     "metadata": {},
     "output_type": "execute_result"
    }
   ],
   "source": [
    "make_model(Pipeline([('mm', MinMaxScaler()), ('pt', PowerTransformer(method='yeo-johnson')), ('lr', SelectFromModel(estimator=LogisticRegression()))]), data_out, 'delete')"
   ]
  },
  {
   "cell_type": "markdown",
   "id": "c709c01f",
   "metadata": {},
   "source": [
    "Vyhodnocovanie výsledkov modelov bolo uskutočnené pomocou cross validation a vyskúšali sme rôzne stratégie práce s chýbajucími a vychýlenými hodnotami, rôzne metódy scaling a transformer s nastavovaním hyperparametrov. Prišli sme k záveru, že najlepšia stratégia pre model je s odstránenými prázdnymi hodnotami s MinMaxScaler a SelectFromModel(estimator=LogisticRegression()."
   ]
  },
  {
   "cell_type": "code",
   "execution_count": null,
   "id": "d7851c7d",
   "metadata": {},
   "outputs": [],
   "source": []
  }
 ],
 "metadata": {
  "kernelspec": {
   "display_name": "Python 3 (ipykernel)",
   "language": "python",
   "name": "python3"
  },
  "language_info": {
   "codemirror_mode": {
    "name": "ipython",
    "version": 3
   },
   "file_extension": ".py",
   "mimetype": "text/x-python",
   "name": "python",
   "nbconvert_exporter": "python",
   "pygments_lexer": "ipython3",
   "version": "3.9.5"
  }
 },
 "nbformat": 4,
 "nbformat_minor": 5
}
